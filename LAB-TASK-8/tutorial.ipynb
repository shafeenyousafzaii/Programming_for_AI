{
 "cells": [
  {
   "cell_type": "code",
   "execution_count": 4,
   "metadata": {},
   "outputs": [],
   "source": [
    "import os\n",
    "import xml.etree.cElementTree as XET\n",
    "root=XET.Element(\"AI-LAB\")\n",
    "child1=XET.SubElement(root,\"Task1\")\n",
    "subchild1=XET.SubElement(child1,\"Data Analysis\")\n",
    "child2=XET.SubElement(root,\"Task2\")\n",
    "child1.text=\"Data for child1\"\n",
    "subchild1.text=\"Mean is 2.4\"\n",
    "child2.text=\"Data for child2\"\n",
    "tree=XET.ElementTree(root)\n",
    "tree.write(\"/home/shafeen/Documents/My-all-programs--/SEMESTER-3/Programming_for_AI/LAB-TASK-8/output.xml\",encoding=\"utf-8\")"
   ]
  },
  {
   "cell_type": "code",
   "execution_count": 16,
   "metadata": {},
   "outputs": [
    {
     "name": "stdout",
     "output_type": "stream",
     "text": [
      "irfan      20\n",
      "Ali        21\n",
      "Taimoor    19\n",
      "dtype: int64\n",
      "Ali        21\n",
      "Taimoor    19\n",
      "dtype: int64\n",
      "(3,) 1\n",
      "20.0\n"
     ]
    }
   ],
   "source": [
    "import os\n",
    "import csv\n",
    "import xml.etree.cElementTree as XET\n",
    "import pandas as pd\n",
    "age=pd.Series([20,21,19],index=['irfan','Ali','Taimoor'])\n",
    "print(age)\n",
    "print(age[1:3])\n",
    "print(age.shape,age.ndim)\n",
    "print(age.mean())\n",
    "# print(age.loc[2:,['Name','City']])"
   ]
  }
 ],
 "metadata": {
  "kernelspec": {
   "display_name": "Python 3",
   "language": "python",
   "name": "python3"
  },
  "language_info": {
   "codemirror_mode": {
    "name": "ipython",
    "version": 3
   },
   "file_extension": ".py",
   "mimetype": "text/x-python",
   "name": "python",
   "nbconvert_exporter": "python",
   "pygments_lexer": "ipython3",
   "version": "3.11.4"
  }
 },
 "nbformat": 4,
 "nbformat_minor": 2
}
