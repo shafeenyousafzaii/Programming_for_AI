{
  "cells": [
    {
      "cell_type": "code",
      "execution_count": 2,
      "metadata": {
        "colab": {
          "base_uri": "https://localhost:8080/"
        },
        "id": "em6CmM2i9lJJ",
        "outputId": "7257e7a6-d06b-4118-ff61-1483288962c9"
      },
      "outputs": [
        {
          "name": "stdout",
          "output_type": "stream",
          "text": [
            "Notable words (frequency > 6):\n",
            "the: 47\n",
            "of: 25\n",
            "a: 17\n",
            "where: 7\n",
            "and: 17\n",
            "city: 9\n",
            "with: 10\n",
            "to: 9\n"
          ]
        }
      ],
      "source": [
        "import re\n",
        "from collections import Counter\n",
        "Paragraph = \"In the heart of a bustling metropolis, where skyscrapers touched the sky and the city's rhythm hummed with life, there was a sense of ceaseless energy. The streets were alive with people of all walks of life, each pursuing their own dreams and ambitions. The cacophony of car horns, footsteps, and laughter filled the air, creating a symphony of urban existence.Amidst this urban tapestry, hidden gems of culture and history could be found at every corner. The city's museums held treasures from ancient civilizations, and its parks provided tranquil oases amidst the concrete jungle. The aroma of street food wafted through the air, enticing passersby with the promise of culinary adventures from around the world.As day turned into night, the city transformed into a different entity altogether. Neon signs lit up the streets, casting a vibrant glow on the faces of those who wandered beneath them. The nightlife was a kaleidoscope of experiences, from the swanky bars where cocktails flowed freely to the underground clubs where music throbbed in sync with the heartbeat of the city.Beyond the urban sprawl, nature had its own story to tell. The nearby mountains offered a refuge for those seeking solitude and serenity. Hiking trails wound their way through lush forests, leading to breathtaking vistas that seemed to touch the heavens. The lakes and rivers that crisscrossed the landscape provided a playground for water enthusiasts, from kayakers to anglers.In the realm of education and innovation, the city was a hub of intellectual curiosity. Its universities attracted students from around the world, fostering a rich tapestry of ideas and cultures. Research laboratories buzzed with the excitement of discovery, and startups thrived in the fertile ground of entrepreneurship.\\\n",
        "But amidst all the glitz and glamour, there were also challenges to be faced. The city grappled with issues of inequality and social justice. Community activists and volunteers worked tirelessly to bridge divides and create a more inclusive society. The resilience of the human spirit shone brightly in the face of adversity.\\\n",
        "As the sun rose over the city once more, it brought with it the promise of a new day. People went about their routines, with a sense of purpose and determination. The city, with all its complexities, was a living, breathing entity—a testament to the boundless possibilities of human endeavor.\\\n",
        "In this urban jungle, where dreams were woven into the very fabric of the streets, one could not help but be inspired. It was a place where the past met the future, where cultures converged, and where the human spirit soared. This city, with its relentless energy and enduring spirit, was a testament to the beauty of the human experience.\"\n",
        "\n",
        "words = re.findall(r'\\w+', Paragraph.lower())\n",
        "\n",
        "wordss = len(words)\n",
        "\n",
        "word_freq = Counter(words)\n",
        "\n",
        "notable= {word: freq for word, freq in word_freq.items() if freq > 6}\n",
        "print(\"Notable words (frequency > 6):\")\n",
        "for word, freq in notable.items():\n",
        "    print(f\"{word}: {freq}\")\n"
      ]
    }
  ],
  "metadata": {
    "colab": {
      "name": "Welcome To Colaboratory",
      "provenance": []
    },
    "kernelspec": {
      "display_name": "Python 3",
      "name": "python3"
    },
    "language_info": {
      "codemirror_mode": {
        "name": "ipython",
        "version": 3
      },
      "file_extension": ".py",
      "mimetype": "text/x-python",
      "name": "python",
      "nbconvert_exporter": "python",
      "pygments_lexer": "ipython3",
      "version": "3.11.4"
    }
  },
  "nbformat": 4,
  "nbformat_minor": 0
}
