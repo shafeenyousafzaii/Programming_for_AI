{
 "cells": [
  {
   "cell_type": "code",
   "execution_count": 5,
   "metadata": {},
   "outputs": [
    {
     "name": "stdout",
     "output_type": "stream",
     "text": [
      "   Subject  Average_Grade  Standard_Deviation\n",
      "0     Math           86.6            5.458938\n",
      "1  Science           89.6            4.159327\n",
      "2  History           86.6            5.458938\n"
     ]
    }
   ],
   "source": [
    "import pandas as pd\n",
    "import csv\n",
    "\n",
    "data_path = \"student_data.csv\"\n",
    "student_data = {\n",
    "    'Name': ['Alice', 'Bob', 'Charlie', 'David', 'Eva'],\n",
    "    'Age': [20, 21, 22, 20, 23],\n",
    "    'Math': [85, 90, 78, 92, 88],\n",
    "    'Science': [92, 88, 95, 89, 84],\n",
    "    'History': [78, 85, 88, 92, 90]\n",
    "}\n",
    "student_df = pd.DataFrame(student_data)\n",
    "student_df.to_csv(data_path, index=[1,2,3,4,5])\n",
    "\n",
    "output_path = \"grade_statistics.csv\"\n",
    "subjects = ['Math', 'Science', 'History']\n",
    "statistics_data = {\n",
    "    'Subject': subjects,\n",
    "    'Average_Grade': [student_df[subject].mean() for subject in subjects],\n",
    "    'Standard_Deviation': [student_df[subject].std() for subject in subjects]\n",
    "}\n",
    "statistics_df = pd.DataFrame(statistics_data)\n",
    "statistics_df.to_csv(output_path, index=False)\n",
    "\n",
    "print(statistics_df)"
   ]
  }
 ],
 "metadata": {
  "kernelspec": {
   "display_name": "Python 3",
   "language": "python",
   "name": "python3"
  },
  "language_info": {
   "codemirror_mode": {
    "name": "ipython",
    "version": 3
   },
   "file_extension": ".py",
   "mimetype": "text/x-python",
   "name": "python",
   "nbconvert_exporter": "python",
   "pygments_lexer": "ipython3",
   "version": "3.11.4"
  }
 },
 "nbformat": 4,
 "nbformat_minor": 2
}
