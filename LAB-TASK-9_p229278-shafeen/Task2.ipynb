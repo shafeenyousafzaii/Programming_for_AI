{
 "cells": [
  {
   "cell_type": "code",
   "execution_count": 1,
   "metadata": {},
   "outputs": [
    {
     "name": "stdout",
     "output_type": "stream",
     "text": [
      "      Category       Price\n",
      "0  Electronics  416.666667\n",
      "1    Furniture  175.000000\n",
      "   ID    Name     Category  Price\n",
      "0   1  Laptop  Electronics    800\n"
     ]
    }
   ],
   "source": [
    "import xml.etree.ElementTree as ET\n",
    "import pandas as pd\n",
    "import csv\n",
    "\n",
    "xml_path = \"product_data.xml\"\n",
    "\n",
    "data = [\n",
    "    {\"id\": \"1\", \"name\": \"Laptop\", \"category\": \"Electronics\", \"price\": \"800\"},\n",
    "    {\"id\": \"2\", \"name\": \"Camera\", \"category\": \"Electronics\", \"price\": \"400\"},\n",
    "    {\"id\": \"3\", \"name\": \"Chair\", \"category\": \"Furniture\", \"price\": \"150\"},\n",
    "    {\"id\": \"4\", \"name\": \"Bookshelf\", \"category\": \"Furniture\", \"price\": \"200\"},\n",
    "    {\"id\": \"5\", \"name\": \"Headphones\", \"category\": \"Electronics\", \"price\": \"50\"}\n",
    "]\n",
    "\n",
    "root = ET.Element(\"Products\")\n",
    "\n",
    "for item in data:\n",
    "    product = ET.SubElement(root, \"product\")\n",
    "    for key, value in item.items():\n",
    "        ET.SubElement(product, key).text = value\n",
    "\n",
    "tree = ET.ElementTree(root)\n",
    "\n",
    "tree.write(xml_path)\n",
    "\n",
    "tree = ET.parse(xml_path)\n",
    "root = tree.getroot()\n",
    "\n",
    "products = []\n",
    "for product in root.findall('product'):\n",
    "    id = product.find('id').text\n",
    "    name = product.find('name').text\n",
    "    category = product.find('category').text\n",
    "    price = int(product.find('price').text)\n",
    "    products.append([id, name, category, price])\n",
    "\n",
    "df = pd.DataFrame(products, columns=['ID', 'Name', 'Category', 'Price'])\n",
    "\n",
    "csv_path = \"product_info.csv\"\n",
    "df.to_csv(csv_path, index=False)\n",
    "\n",
    "csv_df = pd.read_csv(csv_path)\n",
    "\n",
    "category_averages = csv_df.groupby('Category')['Price'].mean().reset_index()\n",
    "\n",
    "max_price_product = csv_df[csv_df['Price'] == csv_df['Price'].max()]\n",
    "\n",
    "category_averages.to_csv(\"category_averages.csv\", index=False)\n",
    "\n",
    "max_price_product.to_csv(\"max_price_product.csv\", index=False)\n",
    "\n",
    "print(category_averages)\n",
    "\n",
    "print(max_price_product)"
   ]
  }
 ],
 "metadata": {
  "kernelspec": {
   "display_name": "Python 3",
   "language": "python",
   "name": "python3"
  },
  "language_info": {
   "codemirror_mode": {
    "name": "ipython",
    "version": 3
   },
   "file_extension": ".py",
   "mimetype": "text/x-python",
   "name": "python",
   "nbconvert_exporter": "python",
   "pygments_lexer": "ipython3",
   "version": "3.11.4"
  }
 },
 "nbformat": 4,
 "nbformat_minor": 2
}
