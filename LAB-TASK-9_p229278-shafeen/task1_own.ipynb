{
 "cells": [
  {
   "cell_type": "code",
   "execution_count": 2,
   "metadata": {},
   "outputs": [
    {
     "name": "stdout",
     "output_type": "stream",
     "text": [
      "        Subjects  Average_grade  Standard_dev\n",
      "0     Grade_Math           86.6      5.458938\n",
      "1  Grade_Science           89.6      4.159327\n",
      "2  Grade_History           86.6      5.458938\n"
     ]
    }
   ],
   "source": [
    "import pandas as pd\n",
    "import csv\n",
    "data={'Name':['Alice','Bob','Charlie','David','Eva'],\n",
    "      'Age':[20,21,22,20,23],\n",
    "      'Grade_Math':[85,90,78,92,88],\n",
    "      'Grade_Science':[92,88,95,89,84],\n",
    "      'Grade_History':[78,85,88,92,90]\n",
    "      }\n",
    "csvfile=\"Students_data.csv\"\n",
    "student_df=pd.DataFrame(data)\n",
    "student_df.to_csv(csvfile,index=False)\n",
    "outputt=\"Grade_stats.csv\"\n",
    "subjects=['Grade_Math','Grade_Science','Grade_History']\n",
    "stats_data={\n",
    "    'Subjects':subjects,\n",
    "    'Average_grade':[student_df[subject].mean() for subject in subjects],\n",
    "    'Standard_dev':[student_df[subject].std() for subject in subjects]\n",
    "}\n",
    "student_dff=pd.DataFrame(stats_data)\n",
    "student_dff.to_csv(outputt,index=False)\n",
    "print(student_dff)\n"
   ]
  },
  {
   "cell_type": "code",
   "execution_count": 7,
   "metadata": {},
   "outputs": [
    {
     "name": "stdout",
     "output_type": "stream",
     "text": [
      "             ID         Salary\n",
      "count  4.000000       4.000000\n",
      "mean   2.500000   72500.000000\n",
      "std    1.290994   22173.557826\n",
      "min    1.000000   50000.000000\n",
      "25%    1.750000   57500.000000\n",
      "50%    2.500000   70000.000000\n",
      "75%    3.250000   85000.000000\n",
      "max    4.000000  100000.000000\n",
      "           0     1     2     3\n",
      "count      4     4     4     4\n",
      "unique     4     4     4     4\n",
      "top     Rose  John  Jane  Mary\n",
      "freq       1     1     1     1\n",
      "   Name  ID       Department  Salary\n",
      "0  Rose   1  Architect Group  100000\n",
      "1  John   2    SoftwareGroup   80000\n",
      "2  Jane   3      Design Team   50000\n",
      "3  Mary   4   Infrastructure   60000\n",
      "   Name\n",
      "0  Rose\n",
      "1  John\n",
      "2  Jane\n",
      "3  Mary\n"
     ]
    }
   ],
   "source": [
    "x = {'Name':['Rose', 'John', 'Jane', 'Mary'],'ID':[1,2, 3, 4],'Department':['Architect Group', 'SoftwareGroup', 'Design Team', 'Infrastructure'],'Salary':[100000, 80000, 50000, 60000]}\n",
    "df = pd.DataFrame(x)\n",
    "print(df.describe())\n",
    "print(df.T.describe())\n",
    "print(df)\n",
    "x=df[['Name']]\n",
    "print(x)"
   ]
  }
 ],
 "metadata": {
  "kernelspec": {
   "display_name": "Python 3",
   "language": "python",
   "name": "python3"
  },
  "language_info": {
   "codemirror_mode": {
    "name": "ipython",
    "version": 3
   },
   "file_extension": ".py",
   "mimetype": "text/x-python",
   "name": "python",
   "nbconvert_exporter": "python",
   "pygments_lexer": "ipython3",
   "version": "3.11.4"
  }
 },
 "nbformat": 4,
 "nbformat_minor": 2
}
