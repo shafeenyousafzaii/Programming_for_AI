{
 "cells": [
  {
   "cell_type": "code",
   "execution_count": 4,
   "id": "e62b9374",
   "metadata": {},
   "outputs": [
    {
     "ename": "FileNotFoundError",
     "evalue": "[Errno 2] No such file or directory: 'C:/Users/muqad/Desktop/seattle-weather.csv'",
     "output_type": "error",
     "traceback": [
      "\u001b[0;31m---------------------------------------------------------------------------\u001b[0m",
      "\u001b[0;31mFileNotFoundError\u001b[0m                         Traceback (most recent call last)",
      "\u001b[1;32m/home/shafeen/Documents/My-all-programs--/SEMESTER-3/Programming_for_AI/PROG_FOR_AI_LAB_PROJECT/UPDATEDPROJECT.ipynb Cell 1\u001b[0m line \u001b[0;36m4\n\u001b[1;32m      <a href='vscode-notebook-cell:/home/shafeen/Documents/My-all-programs--/SEMESTER-3/Programming_for_AI/PROG_FOR_AI_LAB_PROJECT/UPDATEDPROJECT.ipynb#W0sZmlsZQ%3D%3D?line=0'>1</a>\u001b[0m \u001b[39mimport\u001b[39;00m \u001b[39mnumpy\u001b[39;00m \u001b[39mas\u001b[39;00m \u001b[39mnp\u001b[39;00m \n\u001b[1;32m      <a href='vscode-notebook-cell:/home/shafeen/Documents/My-all-programs--/SEMESTER-3/Programming_for_AI/PROG_FOR_AI_LAB_PROJECT/UPDATEDPROJECT.ipynb#W0sZmlsZQ%3D%3D?line=1'>2</a>\u001b[0m \u001b[39mimport\u001b[39;00m \u001b[39mpandas\u001b[39;00m \u001b[39mas\u001b[39;00m \u001b[39mpd\u001b[39;00m \n\u001b[0;32m----> <a href='vscode-notebook-cell:/home/shafeen/Documents/My-all-programs--/SEMESTER-3/Programming_for_AI/PROG_FOR_AI_LAB_PROJECT/UPDATEDPROJECT.ipynb#W0sZmlsZQ%3D%3D?line=3'>4</a>\u001b[0m df \u001b[39m=\u001b[39m pd\u001b[39m.\u001b[39mread_csv(\u001b[39m\"\u001b[39m\u001b[39mC:/Users/muqad/Desktop/seattle-weather.csv\u001b[39m\u001b[39m\"\u001b[39m)\n\u001b[1;32m      <a href='vscode-notebook-cell:/home/shafeen/Documents/My-all-programs--/SEMESTER-3/Programming_for_AI/PROG_FOR_AI_LAB_PROJECT/UPDATEDPROJECT.ipynb#W0sZmlsZQ%3D%3D?line=5'>6</a>\u001b[0m df\u001b[39m.\u001b[39mhead()\n",
      "File \u001b[0;32m~/anaconda3/lib/python3.11/site-packages/pandas/io/parsers/readers.py:948\u001b[0m, in \u001b[0;36mread_csv\u001b[0;34m(filepath_or_buffer, sep, delimiter, header, names, index_col, usecols, dtype, engine, converters, true_values, false_values, skipinitialspace, skiprows, skipfooter, nrows, na_values, keep_default_na, na_filter, verbose, skip_blank_lines, parse_dates, infer_datetime_format, keep_date_col, date_parser, date_format, dayfirst, cache_dates, iterator, chunksize, compression, thousands, decimal, lineterminator, quotechar, quoting, doublequote, escapechar, comment, encoding, encoding_errors, dialect, on_bad_lines, delim_whitespace, low_memory, memory_map, float_precision, storage_options, dtype_backend)\u001b[0m\n\u001b[1;32m    935\u001b[0m kwds_defaults \u001b[39m=\u001b[39m _refine_defaults_read(\n\u001b[1;32m    936\u001b[0m     dialect,\n\u001b[1;32m    937\u001b[0m     delimiter,\n\u001b[0;32m   (...)\u001b[0m\n\u001b[1;32m    944\u001b[0m     dtype_backend\u001b[39m=\u001b[39mdtype_backend,\n\u001b[1;32m    945\u001b[0m )\n\u001b[1;32m    946\u001b[0m kwds\u001b[39m.\u001b[39mupdate(kwds_defaults)\n\u001b[0;32m--> 948\u001b[0m \u001b[39mreturn\u001b[39;00m _read(filepath_or_buffer, kwds)\n",
      "File \u001b[0;32m~/anaconda3/lib/python3.11/site-packages/pandas/io/parsers/readers.py:611\u001b[0m, in \u001b[0;36m_read\u001b[0;34m(filepath_or_buffer, kwds)\u001b[0m\n\u001b[1;32m    608\u001b[0m _validate_names(kwds\u001b[39m.\u001b[39mget(\u001b[39m\"\u001b[39m\u001b[39mnames\u001b[39m\u001b[39m\"\u001b[39m, \u001b[39mNone\u001b[39;00m))\n\u001b[1;32m    610\u001b[0m \u001b[39m# Create the parser.\u001b[39;00m\n\u001b[0;32m--> 611\u001b[0m parser \u001b[39m=\u001b[39m TextFileReader(filepath_or_buffer, \u001b[39m*\u001b[39m\u001b[39m*\u001b[39mkwds)\n\u001b[1;32m    613\u001b[0m \u001b[39mif\u001b[39;00m chunksize \u001b[39mor\u001b[39;00m iterator:\n\u001b[1;32m    614\u001b[0m     \u001b[39mreturn\u001b[39;00m parser\n",
      "File \u001b[0;32m~/anaconda3/lib/python3.11/site-packages/pandas/io/parsers/readers.py:1448\u001b[0m, in \u001b[0;36mTextFileReader.__init__\u001b[0;34m(self, f, engine, **kwds)\u001b[0m\n\u001b[1;32m   1445\u001b[0m     \u001b[39mself\u001b[39m\u001b[39m.\u001b[39moptions[\u001b[39m\"\u001b[39m\u001b[39mhas_index_names\u001b[39m\u001b[39m\"\u001b[39m] \u001b[39m=\u001b[39m kwds[\u001b[39m\"\u001b[39m\u001b[39mhas_index_names\u001b[39m\u001b[39m\"\u001b[39m]\n\u001b[1;32m   1447\u001b[0m \u001b[39mself\u001b[39m\u001b[39m.\u001b[39mhandles: IOHandles \u001b[39m|\u001b[39m \u001b[39mNone\u001b[39;00m \u001b[39m=\u001b[39m \u001b[39mNone\u001b[39;00m\n\u001b[0;32m-> 1448\u001b[0m \u001b[39mself\u001b[39m\u001b[39m.\u001b[39m_engine \u001b[39m=\u001b[39m \u001b[39mself\u001b[39m\u001b[39m.\u001b[39m_make_engine(f, \u001b[39mself\u001b[39m\u001b[39m.\u001b[39mengine)\n",
      "File \u001b[0;32m~/anaconda3/lib/python3.11/site-packages/pandas/io/parsers/readers.py:1705\u001b[0m, in \u001b[0;36mTextFileReader._make_engine\u001b[0;34m(self, f, engine)\u001b[0m\n\u001b[1;32m   1703\u001b[0m     \u001b[39mif\u001b[39;00m \u001b[39m\"\u001b[39m\u001b[39mb\u001b[39m\u001b[39m\"\u001b[39m \u001b[39mnot\u001b[39;00m \u001b[39min\u001b[39;00m mode:\n\u001b[1;32m   1704\u001b[0m         mode \u001b[39m+\u001b[39m\u001b[39m=\u001b[39m \u001b[39m\"\u001b[39m\u001b[39mb\u001b[39m\u001b[39m\"\u001b[39m\n\u001b[0;32m-> 1705\u001b[0m \u001b[39mself\u001b[39m\u001b[39m.\u001b[39mhandles \u001b[39m=\u001b[39m get_handle(\n\u001b[1;32m   1706\u001b[0m     f,\n\u001b[1;32m   1707\u001b[0m     mode,\n\u001b[1;32m   1708\u001b[0m     encoding\u001b[39m=\u001b[39m\u001b[39mself\u001b[39m\u001b[39m.\u001b[39moptions\u001b[39m.\u001b[39mget(\u001b[39m\"\u001b[39m\u001b[39mencoding\u001b[39m\u001b[39m\"\u001b[39m, \u001b[39mNone\u001b[39;00m),\n\u001b[1;32m   1709\u001b[0m     compression\u001b[39m=\u001b[39m\u001b[39mself\u001b[39m\u001b[39m.\u001b[39moptions\u001b[39m.\u001b[39mget(\u001b[39m\"\u001b[39m\u001b[39mcompression\u001b[39m\u001b[39m\"\u001b[39m, \u001b[39mNone\u001b[39;00m),\n\u001b[1;32m   1710\u001b[0m     memory_map\u001b[39m=\u001b[39m\u001b[39mself\u001b[39m\u001b[39m.\u001b[39moptions\u001b[39m.\u001b[39mget(\u001b[39m\"\u001b[39m\u001b[39mmemory_map\u001b[39m\u001b[39m\"\u001b[39m, \u001b[39mFalse\u001b[39;00m),\n\u001b[1;32m   1711\u001b[0m     is_text\u001b[39m=\u001b[39mis_text,\n\u001b[1;32m   1712\u001b[0m     errors\u001b[39m=\u001b[39m\u001b[39mself\u001b[39m\u001b[39m.\u001b[39moptions\u001b[39m.\u001b[39mget(\u001b[39m\"\u001b[39m\u001b[39mencoding_errors\u001b[39m\u001b[39m\"\u001b[39m, \u001b[39m\"\u001b[39m\u001b[39mstrict\u001b[39m\u001b[39m\"\u001b[39m),\n\u001b[1;32m   1713\u001b[0m     storage_options\u001b[39m=\u001b[39m\u001b[39mself\u001b[39m\u001b[39m.\u001b[39moptions\u001b[39m.\u001b[39mget(\u001b[39m\"\u001b[39m\u001b[39mstorage_options\u001b[39m\u001b[39m\"\u001b[39m, \u001b[39mNone\u001b[39;00m),\n\u001b[1;32m   1714\u001b[0m )\n\u001b[1;32m   1715\u001b[0m \u001b[39massert\u001b[39;00m \u001b[39mself\u001b[39m\u001b[39m.\u001b[39mhandles \u001b[39mis\u001b[39;00m \u001b[39mnot\u001b[39;00m \u001b[39mNone\u001b[39;00m\n\u001b[1;32m   1716\u001b[0m f \u001b[39m=\u001b[39m \u001b[39mself\u001b[39m\u001b[39m.\u001b[39mhandles\u001b[39m.\u001b[39mhandle\n",
      "File \u001b[0;32m~/anaconda3/lib/python3.11/site-packages/pandas/io/common.py:863\u001b[0m, in \u001b[0;36mget_handle\u001b[0;34m(path_or_buf, mode, encoding, compression, memory_map, is_text, errors, storage_options)\u001b[0m\n\u001b[1;32m    858\u001b[0m \u001b[39melif\u001b[39;00m \u001b[39misinstance\u001b[39m(handle, \u001b[39mstr\u001b[39m):\n\u001b[1;32m    859\u001b[0m     \u001b[39m# Check whether the filename is to be opened in binary mode.\u001b[39;00m\n\u001b[1;32m    860\u001b[0m     \u001b[39m# Binary mode does not support 'encoding' and 'newline'.\u001b[39;00m\n\u001b[1;32m    861\u001b[0m     \u001b[39mif\u001b[39;00m ioargs\u001b[39m.\u001b[39mencoding \u001b[39mand\u001b[39;00m \u001b[39m\"\u001b[39m\u001b[39mb\u001b[39m\u001b[39m\"\u001b[39m \u001b[39mnot\u001b[39;00m \u001b[39min\u001b[39;00m ioargs\u001b[39m.\u001b[39mmode:\n\u001b[1;32m    862\u001b[0m         \u001b[39m# Encoding\u001b[39;00m\n\u001b[0;32m--> 863\u001b[0m         handle \u001b[39m=\u001b[39m \u001b[39mopen\u001b[39m(\n\u001b[1;32m    864\u001b[0m             handle,\n\u001b[1;32m    865\u001b[0m             ioargs\u001b[39m.\u001b[39mmode,\n\u001b[1;32m    866\u001b[0m             encoding\u001b[39m=\u001b[39mioargs\u001b[39m.\u001b[39mencoding,\n\u001b[1;32m    867\u001b[0m             errors\u001b[39m=\u001b[39merrors,\n\u001b[1;32m    868\u001b[0m             newline\u001b[39m=\u001b[39m\u001b[39m\"\u001b[39m\u001b[39m\"\u001b[39m,\n\u001b[1;32m    869\u001b[0m         )\n\u001b[1;32m    870\u001b[0m     \u001b[39melse\u001b[39;00m:\n\u001b[1;32m    871\u001b[0m         \u001b[39m# Binary mode\u001b[39;00m\n\u001b[1;32m    872\u001b[0m         handle \u001b[39m=\u001b[39m \u001b[39mopen\u001b[39m(handle, ioargs\u001b[39m.\u001b[39mmode)\n",
      "\u001b[0;31mFileNotFoundError\u001b[0m: [Errno 2] No such file or directory: 'C:/Users/muqad/Desktop/seattle-weather.csv'"
     ]
    }
   ],
   "source": [
    "import numpy as np \n",
    "import pandas as pd \n",
    "\n",
    "df = pd.read_csv(\"C:/Users/muqad/Desktop/seattle-weather.csv\")\n",
    "\n",
    "df.head()\n"
   ]
  },
  {
   "cell_type": "code",
   "execution_count": null,
   "id": "ae6d75c2",
   "metadata": {},
   "outputs": [
    {
     "data": {
      "text/html": [
       "<div>\n",
       "<style scoped>\n",
       "    .dataframe tbody tr th:only-of-type {\n",
       "        vertical-align: middle;\n",
       "    }\n",
       "\n",
       "    .dataframe tbody tr th {\n",
       "        vertical-align: top;\n",
       "    }\n",
       "\n",
       "    .dataframe thead th {\n",
       "        text-align: right;\n",
       "    }\n",
       "</style>\n",
       "<table border=\"1\" class=\"dataframe\">\n",
       "  <thead>\n",
       "    <tr style=\"text-align: right;\">\n",
       "      <th></th>\n",
       "      <th>date</th>\n",
       "      <th>precipitation</th>\n",
       "      <th>temp_max</th>\n",
       "      <th>temp_min</th>\n",
       "      <th>wind</th>\n",
       "    </tr>\n",
       "    <tr>\n",
       "      <th>weather</th>\n",
       "      <th></th>\n",
       "      <th></th>\n",
       "      <th></th>\n",
       "      <th></th>\n",
       "      <th></th>\n",
       "    </tr>\n",
       "  </thead>\n",
       "  <tbody>\n",
       "    <tr>\n",
       "      <th>drizzle</th>\n",
       "      <td>53</td>\n",
       "      <td>53</td>\n",
       "      <td>53</td>\n",
       "      <td>53</td>\n",
       "      <td>53</td>\n",
       "    </tr>\n",
       "    <tr>\n",
       "      <th>fog</th>\n",
       "      <td>101</td>\n",
       "      <td>101</td>\n",
       "      <td>101</td>\n",
       "      <td>101</td>\n",
       "      <td>101</td>\n",
       "    </tr>\n",
       "    <tr>\n",
       "      <th>rain</th>\n",
       "      <td>641</td>\n",
       "      <td>641</td>\n",
       "      <td>641</td>\n",
       "      <td>641</td>\n",
       "      <td>641</td>\n",
       "    </tr>\n",
       "    <tr>\n",
       "      <th>snow</th>\n",
       "      <td>26</td>\n",
       "      <td>26</td>\n",
       "      <td>26</td>\n",
       "      <td>26</td>\n",
       "      <td>26</td>\n",
       "    </tr>\n",
       "    <tr>\n",
       "      <th>sun</th>\n",
       "      <td>640</td>\n",
       "      <td>640</td>\n",
       "      <td>640</td>\n",
       "      <td>640</td>\n",
       "      <td>640</td>\n",
       "    </tr>\n",
       "  </tbody>\n",
       "</table>\n",
       "</div>"
      ],
      "text/plain": [
       "         date  precipitation  temp_max  temp_min  wind\n",
       "weather                                               \n",
       "drizzle    53             53        53        53    53\n",
       "fog       101            101       101       101   101\n",
       "rain      641            641       641       641   641\n",
       "snow       26             26        26        26    26\n",
       "sun       640            640       640       640   640"
      ]
     },
     "execution_count": 59,
     "metadata": {},
     "output_type": "execute_result"
    }
   ],
   "source": [
    "\n",
    "df.groupby('weather').count()\n",
    "    \n"
   ]
  },
  {
   "cell_type": "code",
   "execution_count": null,
   "id": "7cd15330",
   "metadata": {},
   "outputs": [
    {
     "data": {
      "text/html": [
       "<div>\n",
       "<style scoped>\n",
       "    .dataframe tbody tr th:only-of-type {\n",
       "        vertical-align: middle;\n",
       "    }\n",
       "\n",
       "    .dataframe tbody tr th {\n",
       "        vertical-align: top;\n",
       "    }\n",
       "\n",
       "    .dataframe thead th {\n",
       "        text-align: right;\n",
       "    }\n",
       "</style>\n",
       "<table border=\"1\" class=\"dataframe\">\n",
       "  <thead>\n",
       "    <tr style=\"text-align: right;\">\n",
       "      <th></th>\n",
       "      <th>date</th>\n",
       "      <th>precipitation</th>\n",
       "      <th>temp_max</th>\n",
       "      <th>temp_min</th>\n",
       "      <th>wind</th>\n",
       "      <th>weather</th>\n",
       "    </tr>\n",
       "  </thead>\n",
       "  <tbody>\n",
       "  </tbody>\n",
       "</table>\n",
       "</div>"
      ],
      "text/plain": [
       "Empty DataFrame\n",
       "Columns: [date, precipitation, temp_max, temp_min, wind, weather]\n",
       "Index: []"
      ]
     },
     "execution_count": 60,
     "metadata": {},
     "output_type": "execute_result"
    }
   ],
   "source": [
    "#We can see that the precipitation is 0 when it is drizzle\n",
    "df.loc[(df['weather']=='drizzle') & (df.precipitation != 0)]"
   ]
  },
  {
   "cell_type": "code",
   "execution_count": null,
   "id": "93ac6247",
   "metadata": {},
   "outputs": [
    {
     "data": {
      "text/html": [
       "<div>\n",
       "<style scoped>\n",
       "    .dataframe tbody tr th:only-of-type {\n",
       "        vertical-align: middle;\n",
       "    }\n",
       "\n",
       "    .dataframe tbody tr th {\n",
       "        vertical-align: top;\n",
       "    }\n",
       "\n",
       "    .dataframe thead th {\n",
       "        text-align: right;\n",
       "    }\n",
       "</style>\n",
       "<table border=\"1\" class=\"dataframe\">\n",
       "  <thead>\n",
       "    <tr style=\"text-align: right;\">\n",
       "      <th></th>\n",
       "      <th>date</th>\n",
       "      <th>precipitation</th>\n",
       "      <th>temp_max</th>\n",
       "      <th>temp_min</th>\n",
       "      <th>wind</th>\n",
       "      <th>weather</th>\n",
       "    </tr>\n",
       "  </thead>\n",
       "  <tbody>\n",
       "  </tbody>\n",
       "</table>\n",
       "</div>"
      ],
      "text/plain": [
       "Empty DataFrame\n",
       "Columns: [date, precipitation, temp_max, temp_min, wind, weather]\n",
       "Index: []"
      ]
     },
     "execution_count": 61,
     "metadata": {},
     "output_type": "execute_result"
    }
   ],
   "source": [
    "#Precipication is again 0 when it is sunny\n",
    "df.loc[(df.weather == 'sun') & (df.precipitation)!=0]"
   ]
  },
  {
   "cell_type": "code",
   "execution_count": null,
   "id": "c06d244d",
   "metadata": {},
   "outputs": [
    {
     "data": {
      "text/html": [
       "<div>\n",
       "<style scoped>\n",
       "    .dataframe tbody tr th:only-of-type {\n",
       "        vertical-align: middle;\n",
       "    }\n",
       "\n",
       "    .dataframe tbody tr th {\n",
       "        vertical-align: top;\n",
       "    }\n",
       "\n",
       "    .dataframe thead th {\n",
       "        text-align: right;\n",
       "    }\n",
       "</style>\n",
       "<table border=\"1\" class=\"dataframe\">\n",
       "  <thead>\n",
       "    <tr style=\"text-align: right;\">\n",
       "      <th></th>\n",
       "      <th>date</th>\n",
       "      <th>precipitation</th>\n",
       "      <th>temp_max</th>\n",
       "      <th>temp_min</th>\n",
       "      <th>wind</th>\n",
       "      <th>weather</th>\n",
       "    </tr>\n",
       "  </thead>\n",
       "  <tbody>\n",
       "    <tr>\n",
       "      <th>13</th>\n",
       "      <td>2012-01-14</td>\n",
       "      <td>4.1</td>\n",
       "      <td>4.4</td>\n",
       "      <td>0.6</td>\n",
       "      <td>5.3</td>\n",
       "      <td>snow</td>\n",
       "    </tr>\n",
       "    <tr>\n",
       "      <th>14</th>\n",
       "      <td>2012-01-15</td>\n",
       "      <td>5.3</td>\n",
       "      <td>1.1</td>\n",
       "      <td>-3.3</td>\n",
       "      <td>3.2</td>\n",
       "      <td>snow</td>\n",
       "    </tr>\n",
       "    <tr>\n",
       "      <th>15</th>\n",
       "      <td>2012-01-16</td>\n",
       "      <td>2.5</td>\n",
       "      <td>1.7</td>\n",
       "      <td>-2.8</td>\n",
       "      <td>5.0</td>\n",
       "      <td>snow</td>\n",
       "    </tr>\n",
       "    <tr>\n",
       "      <th>16</th>\n",
       "      <td>2012-01-17</td>\n",
       "      <td>8.1</td>\n",
       "      <td>3.3</td>\n",
       "      <td>0.0</td>\n",
       "      <td>5.6</td>\n",
       "      <td>snow</td>\n",
       "    </tr>\n",
       "    <tr>\n",
       "      <th>17</th>\n",
       "      <td>2012-01-18</td>\n",
       "      <td>19.8</td>\n",
       "      <td>0.0</td>\n",
       "      <td>-2.8</td>\n",
       "      <td>5.0</td>\n",
       "      <td>snow</td>\n",
       "    </tr>\n",
       "    <tr>\n",
       "      <th>18</th>\n",
       "      <td>2012-01-19</td>\n",
       "      <td>15.2</td>\n",
       "      <td>-1.1</td>\n",
       "      <td>-2.8</td>\n",
       "      <td>1.6</td>\n",
       "      <td>snow</td>\n",
       "    </tr>\n",
       "    <tr>\n",
       "      <th>19</th>\n",
       "      <td>2012-01-20</td>\n",
       "      <td>13.5</td>\n",
       "      <td>7.2</td>\n",
       "      <td>-1.1</td>\n",
       "      <td>2.3</td>\n",
       "      <td>snow</td>\n",
       "    </tr>\n",
       "    <tr>\n",
       "      <th>56</th>\n",
       "      <td>2012-02-26</td>\n",
       "      <td>1.3</td>\n",
       "      <td>5.0</td>\n",
       "      <td>-1.1</td>\n",
       "      <td>3.4</td>\n",
       "      <td>snow</td>\n",
       "    </tr>\n",
       "    <tr>\n",
       "      <th>58</th>\n",
       "      <td>2012-02-28</td>\n",
       "      <td>3.6</td>\n",
       "      <td>6.7</td>\n",
       "      <td>-0.6</td>\n",
       "      <td>4.2</td>\n",
       "      <td>snow</td>\n",
       "    </tr>\n",
       "    <tr>\n",
       "      <th>59</th>\n",
       "      <td>2012-02-29</td>\n",
       "      <td>0.8</td>\n",
       "      <td>5.0</td>\n",
       "      <td>1.1</td>\n",
       "      <td>7.0</td>\n",
       "      <td>snow</td>\n",
       "    </tr>\n",
       "    <tr>\n",
       "      <th>65</th>\n",
       "      <td>2012-03-06</td>\n",
       "      <td>0.5</td>\n",
       "      <td>6.7</td>\n",
       "      <td>0.0</td>\n",
       "      <td>2.7</td>\n",
       "      <td>snow</td>\n",
       "    </tr>\n",
       "    <tr>\n",
       "      <th>71</th>\n",
       "      <td>2012-03-12</td>\n",
       "      <td>19.3</td>\n",
       "      <td>8.3</td>\n",
       "      <td>0.6</td>\n",
       "      <td>6.2</td>\n",
       "      <td>snow</td>\n",
       "    </tr>\n",
       "    <tr>\n",
       "      <th>72</th>\n",
       "      <td>2012-03-13</td>\n",
       "      <td>9.4</td>\n",
       "      <td>5.6</td>\n",
       "      <td>0.6</td>\n",
       "      <td>5.3</td>\n",
       "      <td>snow</td>\n",
       "    </tr>\n",
       "    <tr>\n",
       "      <th>74</th>\n",
       "      <td>2012-03-15</td>\n",
       "      <td>23.9</td>\n",
       "      <td>11.1</td>\n",
       "      <td>5.6</td>\n",
       "      <td>5.8</td>\n",
       "      <td>snow</td>\n",
       "    </tr>\n",
       "    <tr>\n",
       "      <th>76</th>\n",
       "      <td>2012-03-17</td>\n",
       "      <td>9.4</td>\n",
       "      <td>10.0</td>\n",
       "      <td>0.6</td>\n",
       "      <td>3.8</td>\n",
       "      <td>snow</td>\n",
       "    </tr>\n",
       "    <tr>\n",
       "      <th>95</th>\n",
       "      <td>2012-04-05</td>\n",
       "      <td>4.6</td>\n",
       "      <td>9.4</td>\n",
       "      <td>2.8</td>\n",
       "      <td>1.8</td>\n",
       "      <td>snow</td>\n",
       "    </tr>\n",
       "    <tr>\n",
       "      <th>349</th>\n",
       "      <td>2012-12-15</td>\n",
       "      <td>5.3</td>\n",
       "      <td>4.4</td>\n",
       "      <td>0.6</td>\n",
       "      <td>5.1</td>\n",
       "      <td>snow</td>\n",
       "    </tr>\n",
       "    <tr>\n",
       "      <th>350</th>\n",
       "      <td>2012-12-16</td>\n",
       "      <td>22.6</td>\n",
       "      <td>6.7</td>\n",
       "      <td>3.3</td>\n",
       "      <td>5.5</td>\n",
       "      <td>snow</td>\n",
       "    </tr>\n",
       "    <tr>\n",
       "      <th>352</th>\n",
       "      <td>2012-12-18</td>\n",
       "      <td>3.3</td>\n",
       "      <td>3.9</td>\n",
       "      <td>0.6</td>\n",
       "      <td>5.3</td>\n",
       "      <td>snow</td>\n",
       "    </tr>\n",
       "    <tr>\n",
       "      <th>353</th>\n",
       "      <td>2012-12-19</td>\n",
       "      <td>13.7</td>\n",
       "      <td>8.3</td>\n",
       "      <td>1.7</td>\n",
       "      <td>5.8</td>\n",
       "      <td>snow</td>\n",
       "    </tr>\n",
       "    <tr>\n",
       "      <th>359</th>\n",
       "      <td>2012-12-25</td>\n",
       "      <td>13.5</td>\n",
       "      <td>5.6</td>\n",
       "      <td>2.8</td>\n",
       "      <td>4.2</td>\n",
       "      <td>snow</td>\n",
       "    </tr>\n",
       "    <tr>\n",
       "      <th>375</th>\n",
       "      <td>2013-01-10</td>\n",
       "      <td>0.3</td>\n",
       "      <td>3.3</td>\n",
       "      <td>-0.6</td>\n",
       "      <td>2.1</td>\n",
       "      <td>snow</td>\n",
       "    </tr>\n",
       "    <tr>\n",
       "      <th>445</th>\n",
       "      <td>2013-03-21</td>\n",
       "      <td>8.1</td>\n",
       "      <td>10.0</td>\n",
       "      <td>2.2</td>\n",
       "      <td>4.9</td>\n",
       "      <td>snow</td>\n",
       "    </tr>\n",
       "    <tr>\n",
       "      <th>719</th>\n",
       "      <td>2013-12-20</td>\n",
       "      <td>5.6</td>\n",
       "      <td>8.3</td>\n",
       "      <td>0.6</td>\n",
       "      <td>3.7</td>\n",
       "      <td>snow</td>\n",
       "    </tr>\n",
       "    <tr>\n",
       "      <th>769</th>\n",
       "      <td>2014-02-08</td>\n",
       "      <td>5.1</td>\n",
       "      <td>5.6</td>\n",
       "      <td>-0.5</td>\n",
       "      <td>4.6</td>\n",
       "      <td>snow</td>\n",
       "    </tr>\n",
       "    <tr>\n",
       "      <th>1063</th>\n",
       "      <td>2014-11-29</td>\n",
       "      <td>3.6</td>\n",
       "      <td>4.4</td>\n",
       "      <td>-4.3</td>\n",
       "      <td>5.3</td>\n",
       "      <td>snow</td>\n",
       "    </tr>\n",
       "  </tbody>\n",
       "</table>\n",
       "</div>"
      ],
      "text/plain": [
       "            date  precipitation  temp_max  temp_min  wind weather\n",
       "13    2012-01-14            4.1       4.4       0.6   5.3    snow\n",
       "14    2012-01-15            5.3       1.1      -3.3   3.2    snow\n",
       "15    2012-01-16            2.5       1.7      -2.8   5.0    snow\n",
       "16    2012-01-17            8.1       3.3       0.0   5.6    snow\n",
       "17    2012-01-18           19.8       0.0      -2.8   5.0    snow\n",
       "18    2012-01-19           15.2      -1.1      -2.8   1.6    snow\n",
       "19    2012-01-20           13.5       7.2      -1.1   2.3    snow\n",
       "56    2012-02-26            1.3       5.0      -1.1   3.4    snow\n",
       "58    2012-02-28            3.6       6.7      -0.6   4.2    snow\n",
       "59    2012-02-29            0.8       5.0       1.1   7.0    snow\n",
       "65    2012-03-06            0.5       6.7       0.0   2.7    snow\n",
       "71    2012-03-12           19.3       8.3       0.6   6.2    snow\n",
       "72    2012-03-13            9.4       5.6       0.6   5.3    snow\n",
       "74    2012-03-15           23.9      11.1       5.6   5.8    snow\n",
       "76    2012-03-17            9.4      10.0       0.6   3.8    snow\n",
       "95    2012-04-05            4.6       9.4       2.8   1.8    snow\n",
       "349   2012-12-15            5.3       4.4       0.6   5.1    snow\n",
       "350   2012-12-16           22.6       6.7       3.3   5.5    snow\n",
       "352   2012-12-18            3.3       3.9       0.6   5.3    snow\n",
       "353   2012-12-19           13.7       8.3       1.7   5.8    snow\n",
       "359   2012-12-25           13.5       5.6       2.8   4.2    snow\n",
       "375   2013-01-10            0.3       3.3      -0.6   2.1    snow\n",
       "445   2013-03-21            8.1      10.0       2.2   4.9    snow\n",
       "719   2013-12-20            5.6       8.3       0.6   3.7    snow\n",
       "769   2014-02-08            5.1       5.6      -0.5   4.6    snow\n",
       "1063  2014-11-29            3.6       4.4      -4.3   5.3    snow"
      ]
     },
     "execution_count": 62,
     "metadata": {},
     "output_type": "execute_result"
    }
   ],
   "source": [
    "#When we have snow, the precipitation is never 0, same when it is rainy\n",
    "df.loc[df['weather'] == 'snow']"
   ]
  },
  {
   "cell_type": "code",
   "execution_count": null,
   "id": "85f2d239",
   "metadata": {},
   "outputs": [
    {
     "data": {
      "text/html": [
       "<div>\n",
       "<style scoped>\n",
       "    .dataframe tbody tr th:only-of-type {\n",
       "        vertical-align: middle;\n",
       "    }\n",
       "\n",
       "    .dataframe tbody tr th {\n",
       "        vertical-align: top;\n",
       "    }\n",
       "\n",
       "    .dataframe thead th {\n",
       "        text-align: right;\n",
       "    }\n",
       "</style>\n",
       "<table border=\"1\" class=\"dataframe\">\n",
       "  <thead>\n",
       "    <tr style=\"text-align: right;\">\n",
       "      <th></th>\n",
       "      <th>date</th>\n",
       "      <th>precipitation</th>\n",
       "      <th>temp_max</th>\n",
       "      <th>temp_min</th>\n",
       "      <th>wind</th>\n",
       "      <th>weather</th>\n",
       "    </tr>\n",
       "  </thead>\n",
       "  <tbody>\n",
       "  </tbody>\n",
       "</table>\n",
       "</div>"
      ],
      "text/plain": [
       "Empty DataFrame\n",
       "Columns: [date, precipitation, temp_max, temp_min, wind, weather]\n",
       "Index: []"
      ]
     },
     "execution_count": 63,
     "metadata": {},
     "output_type": "execute_result"
    }
   ],
   "source": [
    "#When it is foggy, again precipitation = 0\n",
    "df.loc[(df['weather'] == 'fog') & (df['precipitation'] != 0)]"
   ]
  },
  {
   "cell_type": "code",
   "execution_count": null,
   "id": "38f27d23",
   "metadata": {},
   "outputs": [],
   "source": [
    "#one hot encoder weather\n",
    "m = len(df['weather'])\n",
    "encode_weather = np.zeros(m)\n",
    "for i in range(m):\n",
    "    weather = -1\n",
    "    if df['weather'][i] == 'sun':\n",
    "        weather = 0\n",
    "    if df['weather'][i] == 'rain':\n",
    "        weather = 1\n",
    "    if df['weather'][i] == 'snow':\n",
    "        weather = 2\n",
    "    if df['weather'][i] == 'drizzle':\n",
    "        weather = 3\n",
    "    if df['weather'][i] == 'fog':\n",
    "        weather = 4\n",
    "    encode_weather[i] = weather\n",
    "df['Encode Weather'] = encode_weather"
   ]
  },
  {
   "cell_type": "code",
   "execution_count": null,
   "id": "3d0145f5",
   "metadata": {},
   "outputs": [],
   "source": [
    "from datetime import datetime\n",
    "arr_date = df['date']\n",
    "season = np.zeros(df.shape[0])\n",
    "duration = len(arr_date)\n",
    "for i in range(duration):\n",
    "    date = datetime.strptime(arr_date[i], '%Y-%m-%d')\n",
    "    month = date.month\n",
    "    if month == 12 or month == 1 or month == 2 or month == 3:\n",
    "        season[i] = 0 #winter\n",
    "    if month == 4 or month == 5 or month == 6:\n",
    "        season[i] = 1 #spring\n",
    "    if month == 7 or month == 8:\n",
    "        season[i] = 2 #summer\n",
    "    if month == 9 or month == 10 or month == 11:\n",
    "        season[i] = 3 #autumn\n",
    "df['Encode Season'] = season"
   ]
  },
  {
   "cell_type": "code",
   "execution_count": null,
   "id": "d7d6ee3e",
   "metadata": {},
   "outputs": [
    {
     "name": "stdout",
     "output_type": "stream",
     "text": [
      "max of temp_min: 18.3\n",
      "min of temp_min: -7.1\n",
      "max of wind: 9.5\n",
      "min of wind: 0.4\n"
     ]
    }
   ],
   "source": [
    "max_temp = df['temp_min'].max()\n",
    "min_temp = df['temp_min'].min()\n",
    "max_wind = df['wind'].max()\n",
    "min_wind = df['wind'].min()\n",
    "print(\"max of temp_min:\", max_temp)\n",
    "print(\"min of temp_min:\", min_temp)\n",
    "print(\"max of wind:\", max_wind)\n",
    "print(\"min of wind:\", min_wind)"
   ]
  },
  {
   "cell_type": "code",
   "execution_count": null,
   "id": "074f2dfa",
   "metadata": {},
   "outputs": [
    {
     "name": "stdout",
     "output_type": "stream",
     "text": [
      "Min temp when it snows above zero: 0.6\n",
      "Min temp when it snows above zero: 1.1\n",
      "Min temp when it snows above zero: 0.6\n",
      "Min temp when it snows above zero: 0.6\n",
      "Min temp when it snows above zero: 5.6\n",
      "Min temp when it snows above zero: 0.6\n",
      "Min temp when it rains: -0.6\n",
      "Min temp when it rains: -1.1\n",
      "Min temp when it snows above zero: 2.8\n",
      "Min temp when it snows above zero: 0.6\n",
      "Min temp when it snows above zero: 3.3\n",
      "Min temp when it snows above zero: 0.6\n",
      "Min temp when it snows above zero: 1.7\n",
      "Min temp when it rains: -1.7\n",
      "Min temp when it snows above zero: 2.8\n",
      "Min temp when it rains: -1.7\n",
      "Min temp when it snows above zero: 2.2\n",
      "Min temp when it rains: -0.5\n",
      "Min temp when it snows above zero: 0.6\n",
      "Min temp when it rains: 0.0\n",
      "Min temp when it rains: -0.5\n",
      "Min temp when it rains: 0.0\n",
      "Min temp when it rains: 0.0\n",
      "Min temp when it rains: 0.0\n",
      "Min temp when it rains: -3.8\n",
      "14\n",
      "11\n",
      "26\n",
      "641\n"
     ]
    }
   ],
   "source": [
    "#We will see how many days it is snowy when the degree is above zero\n",
    "#And how many day it is rainy when the degree is below zero\n",
    "count_rain_below_zero = 0\n",
    "count_snow_above_zero = 0\n",
    "m = df.shape[0]\n",
    "count_snow = 0\n",
    "count_rain = 0\n",
    "for i in range(m):\n",
    "    if df['weather'][i] == 'snow':\n",
    "        count_snow += 1\n",
    "    if df['weather'][i] == 'rain':\n",
    "        count_rain += 1\n",
    "for i in range(m):\n",
    "    if df['temp_min'][i] <= 0.0:\n",
    "        if df['weather'][i] == 'rain':\n",
    "            count_rain_below_zero += 1\n",
    "            print(\"Min temp when it rains:\", df['temp_min'][i])\n",
    "    else:\n",
    "        if df['weather'][i] == 'snow':\n",
    "            print(\"Min temp when it snows above zero:\", df['temp_min'][i])\n",
    "            count_snow_above_zero += 1\n",
    "            \n",
    "print(count_snow_above_zero)\n",
    "print(count_rain_below_zero)\n",
    "print(count_snow)\n",
    "print(count_rain)"
   ]
  },
  {
   "cell_type": "code",
   "execution_count": null,
   "id": "2c319e39",
   "metadata": {},
   "outputs": [
    {
     "name": "stdout",
     "output_type": "stream",
     "text": [
      "242\n",
      "673\n",
      "452\n",
      "94\n"
     ]
    }
   ],
   "source": [
    "m = df.shape[0]\n",
    "encode_temp = np.zeros(m)\n",
    "count_very_cold = 0\n",
    "count_cold = 0\n",
    "count_cool = 0\n",
    "count_warm = 0\n",
    "for i in range(m):\n",
    "    if df['temp_min'][i] <= 2.8:\n",
    "        encode_temp[i] = 0\n",
    "        count_very_cold += 1\n",
    "    if df['temp_min'][i] > 2.8 and df['temp_min'][i] <=10.0:\n",
    "        encode_temp[i] = 1\n",
    "        count_cold += 1\n",
    "    if df['temp_min'][i] > 10 and df['temp_min'][i] <= 15:\n",
    "        encode_temp[i] = 2\n",
    "        count_cool += 1\n",
    "    if df['temp_min'][i] > 15:\n",
    "        encode_temp[i] = 3\n",
    "        count_warm += 1\n",
    "df['Encode Temp'] = encode_temp\n",
    "print(count_very_cold)\n",
    "print(count_cold)\n",
    "print(count_cool)\n",
    "print(count_warm)"
   ]
  },
  {
   "cell_type": "code",
   "execution_count": null,
   "id": "d0a7c1cd",
   "metadata": {},
   "outputs": [
    {
     "name": "stdout",
     "output_type": "stream",
     "text": [
      "838\n",
      "623\n"
     ]
    }
   ],
   "source": [
    "encode_pre = np.zeros(m)\n",
    "none_pre = 0\n",
    "pre = 0\n",
    "for i in range(m):\n",
    "    pre_value = df['precipitation'][i]\n",
    "    if pre_value == 0.0:\n",
    "        encode_pre[i] = 0\n",
    "        none_pre += 1\n",
    "    else:\n",
    "        encode_pre[i] = 1\n",
    "        pre += 1\n",
    "df['Encode Precipitation'] = encode_pre\n",
    "print(none_pre)\n",
    "print(pre)"
   ]
  },
  {
   "cell_type": "code",
   "execution_count": null,
   "id": "dcd16d03",
   "metadata": {},
   "outputs": [
    {
     "name": "stdout",
     "output_type": "stream",
     "text": [
      "462\n",
      "807\n",
      "175\n",
      "17\n"
     ]
    }
   ],
   "source": [
    "encode_wind = np.zeros(m)\n",
    "wind_1 = 0\n",
    "wind_2 = 0\n",
    "wind_3 = 0\n",
    "wind_4 = 0\n",
    "for i in range(m):\n",
    "    wind_value = df['wind'][i]\n",
    "    if wind_value < 2.5:\n",
    "        encode_wind[i] = 0\n",
    "        wind_1 += 1\n",
    "    if wind_value >= 2.5 and wind_value < 5.0:\n",
    "        encode_wind[i] = 1\n",
    "        wind_2 += 1\n",
    "    if wind_value >= 5.0 and wind_value < 7.5:\n",
    "        encode_wind[i] = 2\n",
    "        wind_3 += 1\n",
    "    if wind_value >= 7.5:\n",
    "        encode_wind[i] = 3\n",
    "        wind_4 += 1\n",
    "df['Encode Wind'] = encode_wind\n",
    "print(wind_1)\n",
    "print(wind_2)\n",
    "print(wind_3)\n",
    "print(wind_4)"
   ]
  },
  {
   "cell_type": "code",
   "execution_count": null,
   "id": "f4d3e048",
   "metadata": {},
   "outputs": [
    {
     "data": {
      "text/html": [
       "<div>\n",
       "<style scoped>\n",
       "    .dataframe tbody tr th:only-of-type {\n",
       "        vertical-align: middle;\n",
       "    }\n",
       "\n",
       "    .dataframe tbody tr th {\n",
       "        vertical-align: top;\n",
       "    }\n",
       "\n",
       "    .dataframe thead th {\n",
       "        text-align: right;\n",
       "    }\n",
       "</style>\n",
       "<table border=\"1\" class=\"dataframe\">\n",
       "  <thead>\n",
       "    <tr style=\"text-align: right;\">\n",
       "      <th></th>\n",
       "      <th>date</th>\n",
       "      <th>precipitation</th>\n",
       "      <th>temp_max</th>\n",
       "      <th>temp_min</th>\n",
       "      <th>wind</th>\n",
       "      <th>weather</th>\n",
       "      <th>Encode Weather</th>\n",
       "      <th>Encode Season</th>\n",
       "      <th>Encode Temp</th>\n",
       "      <th>Encode Precipitation</th>\n",
       "      <th>Encode Wind</th>\n",
       "    </tr>\n",
       "  </thead>\n",
       "  <tbody>\n",
       "    <tr>\n",
       "      <th>0</th>\n",
       "      <td>2012-01-01</td>\n",
       "      <td>0.0</td>\n",
       "      <td>12.8</td>\n",
       "      <td>5.0</td>\n",
       "      <td>4.7</td>\n",
       "      <td>drizzle</td>\n",
       "      <td>3.0</td>\n",
       "      <td>0.0</td>\n",
       "      <td>1.0</td>\n",
       "      <td>0.0</td>\n",
       "      <td>1.0</td>\n",
       "    </tr>\n",
       "    <tr>\n",
       "      <th>1</th>\n",
       "      <td>2012-01-02</td>\n",
       "      <td>10.9</td>\n",
       "      <td>10.6</td>\n",
       "      <td>2.8</td>\n",
       "      <td>4.5</td>\n",
       "      <td>rain</td>\n",
       "      <td>1.0</td>\n",
       "      <td>0.0</td>\n",
       "      <td>0.0</td>\n",
       "      <td>1.0</td>\n",
       "      <td>1.0</td>\n",
       "    </tr>\n",
       "    <tr>\n",
       "      <th>2</th>\n",
       "      <td>2012-01-03</td>\n",
       "      <td>0.8</td>\n",
       "      <td>11.7</td>\n",
       "      <td>7.2</td>\n",
       "      <td>2.3</td>\n",
       "      <td>rain</td>\n",
       "      <td>1.0</td>\n",
       "      <td>0.0</td>\n",
       "      <td>1.0</td>\n",
       "      <td>1.0</td>\n",
       "      <td>0.0</td>\n",
       "    </tr>\n",
       "    <tr>\n",
       "      <th>3</th>\n",
       "      <td>2012-01-04</td>\n",
       "      <td>20.3</td>\n",
       "      <td>12.2</td>\n",
       "      <td>5.6</td>\n",
       "      <td>4.7</td>\n",
       "      <td>rain</td>\n",
       "      <td>1.0</td>\n",
       "      <td>0.0</td>\n",
       "      <td>1.0</td>\n",
       "      <td>1.0</td>\n",
       "      <td>1.0</td>\n",
       "    </tr>\n",
       "    <tr>\n",
       "      <th>4</th>\n",
       "      <td>2012-01-05</td>\n",
       "      <td>1.3</td>\n",
       "      <td>8.9</td>\n",
       "      <td>2.8</td>\n",
       "      <td>6.1</td>\n",
       "      <td>rain</td>\n",
       "      <td>1.0</td>\n",
       "      <td>0.0</td>\n",
       "      <td>0.0</td>\n",
       "      <td>1.0</td>\n",
       "      <td>2.0</td>\n",
       "    </tr>\n",
       "  </tbody>\n",
       "</table>\n",
       "</div>"
      ],
      "text/plain": [
       "         date  precipitation  temp_max  temp_min  wind  weather  \\\n",
       "0  2012-01-01            0.0      12.8       5.0   4.7  drizzle   \n",
       "1  2012-01-02           10.9      10.6       2.8   4.5     rain   \n",
       "2  2012-01-03            0.8      11.7       7.2   2.3     rain   \n",
       "3  2012-01-04           20.3      12.2       5.6   4.7     rain   \n",
       "4  2012-01-05            1.3       8.9       2.8   6.1     rain   \n",
       "\n",
       "   Encode Weather  Encode Season  Encode Temp  Encode Precipitation  \\\n",
       "0             3.0            0.0          1.0                   0.0   \n",
       "1             1.0            0.0          0.0                   1.0   \n",
       "2             1.0            0.0          1.0                   1.0   \n",
       "3             1.0            0.0          1.0                   1.0   \n",
       "4             1.0            0.0          0.0                   1.0   \n",
       "\n",
       "   Encode Wind  \n",
       "0          1.0  \n",
       "1          1.0  \n",
       "2          0.0  \n",
       "3          1.0  \n",
       "4          2.0  "
      ]
     },
     "execution_count": 71,
     "metadata": {},
     "output_type": "execute_result"
    }
   ],
   "source": [
    "df.head()"
   ]
  },
  {
   "cell_type": "code",
   "execution_count": null,
   "id": "15641d01",
   "metadata": {},
   "outputs": [],
   "source": [
    "train_size = int(df.shape[0]*0.8)\n",
    "train_data = df[:train_size]\n",
    "test_data = df[train_size:]"
   ]
  },
  {
   "cell_type": "code",
   "execution_count": null,
   "id": "7e5089a7",
   "metadata": {},
   "outputs": [],
   "source": [
    "def augment_features(df):\n",
    "    return pd.DataFrame({'Season':df['Encode Season'],'Temp':df['Encode Temp'],'Precipitation':df['Encode Precipitation'],'Wind':df['Encode Wind'],'Weather': df['Encode Weather']})"
   ]
  },
  {
   "cell_type": "code",
   "execution_count": null,
   "id": "d0299500",
   "metadata": {},
   "outputs": [],
   "source": [
    "def extract_features(df):\n",
    "    return np.column_stack((df['Season'],df['Temp'], df['Precipitation'], df['Wind'], df['Weather']))"
   ]
  },
  {
   "cell_type": "code",
   "execution_count": null,
   "id": "1b3e05a3",
   "metadata": {},
   "outputs": [
    {
     "data": {
      "text/plain": [
       "array([[0., 1., 0., 1., 3.],\n",
       "       [0., 0., 1., 1., 1.],\n",
       "       [0., 1., 1., 0., 1.],\n",
       "       ...,\n",
       "       [0., 1., 1., 1., 1.],\n",
       "       [0., 1., 0., 1., 0.],\n",
       "       [0., 1., 1., 0., 1.]])"
      ]
     },
     "execution_count": 75,
     "metadata": {},
     "output_type": "execute_result"
    }
   ],
   "source": [
    "features = extract_features(augment_features(train_data))\n",
    "features"
   ]
  },
  {
   "cell_type": "code",
   "execution_count": null,
   "id": "ed2e48f6",
   "metadata": {},
   "outputs": [
    {
     "name": "stdout",
     "output_type": "stream",
     "text": [
      "Requirement already satisfied: hmmlearn in c:\\users\\muqad\\anaconda3\\anaconda-a\\lib\\site-packages (0.3.0)\n",
      "Requirement already satisfied: numpy>=1.10 in c:\\users\\muqad\\anaconda3\\anaconda-a\\lib\\site-packages (from hmmlearn) (1.24.3)\n",
      "Requirement already satisfied: scikit-learn!=0.22.0,>=0.16 in c:\\users\\muqad\\anaconda3\\anaconda-a\\lib\\site-packages (from hmmlearn) (1.3.0)\n",
      "Requirement already satisfied: scipy>=0.19 in c:\\users\\muqad\\anaconda3\\anaconda-a\\lib\\site-packages (from hmmlearn) (1.10.1)\n",
      "Requirement already satisfied: joblib>=1.1.1 in c:\\users\\muqad\\anaconda3\\anaconda-a\\lib\\site-packages (from scikit-learn!=0.22.0,>=0.16->hmmlearn) (1.2.0)\n",
      "Requirement already satisfied: threadpoolctl>=2.0.0 in c:\\users\\muqad\\anaconda3\\anaconda-a\\lib\\site-packages (from scikit-learn!=0.22.0,>=0.16->hmmlearn) (2.2.0)\n"
     ]
    }
   ],
   "source": [
    "# !pip install hmmlearn"
   ]
  },
  {
   "cell_type": "code",
   "execution_count": null,
   "id": "45963231",
   "metadata": {},
   "outputs": [],
   "source": [
    "from hmmlearn.hmm import GaussianHMM"
   ]
  },
  {
   "cell_type": "code",
   "execution_count": null,
   "id": "69035803",
   "metadata": {},
   "outputs": [
    {
     "data": {
      "text/html": [
       "<style>#sk-container-id-2 {color: black;}#sk-container-id-2 pre{padding: 0;}#sk-container-id-2 div.sk-toggleable {background-color: white;}#sk-container-id-2 label.sk-toggleable__label {cursor: pointer;display: block;width: 100%;margin-bottom: 0;padding: 0.3em;box-sizing: border-box;text-align: center;}#sk-container-id-2 label.sk-toggleable__label-arrow:before {content: \"▸\";float: left;margin-right: 0.25em;color: #696969;}#sk-container-id-2 label.sk-toggleable__label-arrow:hover:before {color: black;}#sk-container-id-2 div.sk-estimator:hover label.sk-toggleable__label-arrow:before {color: black;}#sk-container-id-2 div.sk-toggleable__content {max-height: 0;max-width: 0;overflow: hidden;text-align: left;background-color: #f0f8ff;}#sk-container-id-2 div.sk-toggleable__content pre {margin: 0.2em;color: black;border-radius: 0.25em;background-color: #f0f8ff;}#sk-container-id-2 input.sk-toggleable__control:checked~div.sk-toggleable__content {max-height: 200px;max-width: 100%;overflow: auto;}#sk-container-id-2 input.sk-toggleable__control:checked~label.sk-toggleable__label-arrow:before {content: \"▾\";}#sk-container-id-2 div.sk-estimator input.sk-toggleable__control:checked~label.sk-toggleable__label {background-color: #d4ebff;}#sk-container-id-2 div.sk-label input.sk-toggleable__control:checked~label.sk-toggleable__label {background-color: #d4ebff;}#sk-container-id-2 input.sk-hidden--visually {border: 0;clip: rect(1px 1px 1px 1px);clip: rect(1px, 1px, 1px, 1px);height: 1px;margin: -1px;overflow: hidden;padding: 0;position: absolute;width: 1px;}#sk-container-id-2 div.sk-estimator {font-family: monospace;background-color: #f0f8ff;border: 1px dotted black;border-radius: 0.25em;box-sizing: border-box;margin-bottom: 0.5em;}#sk-container-id-2 div.sk-estimator:hover {background-color: #d4ebff;}#sk-container-id-2 div.sk-parallel-item::after {content: \"\";width: 100%;border-bottom: 1px solid gray;flex-grow: 1;}#sk-container-id-2 div.sk-label:hover label.sk-toggleable__label {background-color: #d4ebff;}#sk-container-id-2 div.sk-serial::before {content: \"\";position: absolute;border-left: 1px solid gray;box-sizing: border-box;top: 0;bottom: 0;left: 50%;z-index: 0;}#sk-container-id-2 div.sk-serial {display: flex;flex-direction: column;align-items: center;background-color: white;padding-right: 0.2em;padding-left: 0.2em;position: relative;}#sk-container-id-2 div.sk-item {position: relative;z-index: 1;}#sk-container-id-2 div.sk-parallel {display: flex;align-items: stretch;justify-content: center;background-color: white;position: relative;}#sk-container-id-2 div.sk-item::before, #sk-container-id-2 div.sk-parallel-item::before {content: \"\";position: absolute;border-left: 1px solid gray;box-sizing: border-box;top: 0;bottom: 0;left: 50%;z-index: -1;}#sk-container-id-2 div.sk-parallel-item {display: flex;flex-direction: column;z-index: 1;position: relative;background-color: white;}#sk-container-id-2 div.sk-parallel-item:first-child::after {align-self: flex-end;width: 50%;}#sk-container-id-2 div.sk-parallel-item:last-child::after {align-self: flex-start;width: 50%;}#sk-container-id-2 div.sk-parallel-item:only-child::after {width: 0;}#sk-container-id-2 div.sk-dashed-wrapped {border: 1px dashed gray;margin: 0 0.4em 0.5em 0.4em;box-sizing: border-box;padding-bottom: 0.4em;background-color: white;}#sk-container-id-2 div.sk-label label {font-family: monospace;font-weight: bold;display: inline-block;line-height: 1.2em;}#sk-container-id-2 div.sk-label-container {text-align: center;}#sk-container-id-2 div.sk-container {/* jupyter's `normalize.less` sets `[hidden] { display: none; }` but bootstrap.min.css set `[hidden] { display: none !important; }` so we also need the `!important` here to be able to override the default hidden behavior on the sphinx rendered scikit-learn.org. See: https://github.com/scikit-learn/scikit-learn/issues/21755 */display: inline-block !important;position: relative;}#sk-container-id-2 div.sk-text-repr-fallback {display: none;}</style><div id=\"sk-container-id-2\" class=\"sk-top-container\"><div class=\"sk-text-repr-fallback\"><pre>GaussianHMM(n_components=5, random_state=123)</pre><b>In a Jupyter environment, please rerun this cell to show the HTML representation or trust the notebook. <br />On GitHub, the HTML representation is unable to render, please try loading this page with nbviewer.org.</b></div><div class=\"sk-container\" hidden><div class=\"sk-item\"><div class=\"sk-estimator sk-toggleable\"><input class=\"sk-toggleable__control sk-hidden--visually\" id=\"sk-estimator-id-2\" type=\"checkbox\" checked><label for=\"sk-estimator-id-2\" class=\"sk-toggleable__label sk-toggleable__label-arrow\">GaussianHMM</label><div class=\"sk-toggleable__content\"><pre>GaussianHMM(n_components=5, random_state=123)</pre></div></div></div></div></div>"
      ],
      "text/plain": [
       "GaussianHMM(n_components=5, random_state=123)"
      ]
     },
     "execution_count": 78,
     "metadata": {},
     "output_type": "execute_result"
    }
   ],
   "source": [
    "model = GaussianHMM(n_components = 5,random_state = 123)\n",
    "model.fit(features)"
   ]
  },
  {
   "cell_type": "code",
   "execution_count": null,
   "id": "ccc26a78",
   "metadata": {},
   "outputs": [
    {
     "data": {
      "text/plain": [
       "(293, 11)"
      ]
     },
     "execution_count": 79,
     "metadata": {},
     "output_type": "execute_result"
    }
   ],
   "source": [
    "test_data.reset_index(inplace=True, drop=True)\n",
    "test_data.shape"
   ]
  },
  {
   "cell_type": "code",
   "execution_count": null,
   "id": "5f3dbe41",
   "metadata": {},
   "outputs": [],
   "source": [
    "num_previous_days = 2"
   ]
  },
  {
   "cell_type": "code",
   "execution_count": null,
   "id": "60a022d9",
   "metadata": {},
   "outputs": [
    {
     "data": {
      "text/plain": [
       "array([1., 0.])"
      ]
     },
     "execution_count": 81,
     "metadata": {},
     "output_type": "execute_result"
    }
   ],
   "source": [
    "test_data['Encode Precipitation'].unique()"
   ]
  },
  {
   "cell_type": "code",
   "execution_count": null,
   "id": "10bc3852",
   "metadata": {},
   "outputs": [
    {
     "name": "stderr",
     "output_type": "stream",
     "text": [
      "100%|██████████| 293/293 [00:01<00:00, 202.87it/s]"
     ]
    },
    {
     "name": "stdout",
     "output_type": "stream",
     "text": [
      "[4.0, 1.0, 1.0, 1.0, 0.0, 0.0, 1.0, 1.0, 1.0, 1.0, 1.0, 1.0, 0.0, 1.0, 0.0, 0.0, 1.0, 1.0, 1.0, 0.0, 1.0, 0.0, 0.0, 1.0, 1.0, 0.0, 0.0, 1.0, 0.0, 0.0, 1.0, 1.0, 0.0, 0.0, 0.0, 0.0, 0.0, 0.0, 1.0, 0.0, 1.0, 1.0, 1.0, 0.0, 1.0, 1.0, 0.0, 0.0, 0.0, 0.0, 0.0, 0.0, 1.0, 0.0, 0.0, 0.0, 0.0, 0.0, 0.0, 1.0, 1.0, 1.0, 0.0, 0.0, 0.0, 0.0, 0.0, 0.0, 0.0, 0.0, 0.0, 0.0, 0.0, 0.0, 0.0, 0.0, 0.0, 0.0, 0.0, 1.0, 1.0, 0.0, 0.0, 0.0, 0.0, 0.0, 0.0, 0.0, 0.0, 0.0, 0.0, 0.0, 0.0, 0.0, 0.0, 0.0, 0.0, 1.0, 0.0, 0.0, 0.0, 0.0, 0.0, 0.0, 0.0, 0.0, 1.0, 0.0, 0.0, 0.0, 0.0, 0.0, 0.0, 0.0, 0.0, 0.0, 0.0, 0.0, 0.0, 0.0, 0.0, 0.0, 0.0, 0.0, 0.0, 0.0, 0.0, 0.0, 0.0, 0.0, 0.0, 0.0, 1.0, 0.0, 1.0, 0.0, 0.0, 0.0, 0.0, 0.0, 0.0, 0.0, 0.0, 0.0, 0.0, 0.0, 0.0, 0.0, 0.0, 0.0, 0.0, 1.0, 0.0, 1.0, 0.0, 0.0, 0.0, 0.0, 0.0, 1.0, 0.0, 0.0, 0.0, 0.0, 0.0, 0.0, 0.0, 1.0, 1.0, 1.0, 0.0, 1.0, 0.0, 0.0, 0.0, 1.0, 1.0, 1.0, 0.0, 0.0, 0.0, 0.0, 0.0, 1.0, 0.0, 0.0, 1.0, 1.0, 0.0, 0.0, 1.0, 0.0, 0.0, 0.0, 0.0, 1.0, 0.0, 0.0, 0.0, 0.0, 0.0, 0.0, 0.0, 0.0, 0.0, 0.0, 0.0, 1.0, 0.0, 1.0, 1.0, 0.0, 1.0, 1.0, 0.0, 0.0, 0.0, 1.0, 1.0, 1.0, 0.0, 0.0, 0.0, 0.0, 0.0, 1.0, 1.0, 0.0, 1.0, 1.0, 1.0, 1.0, 1.0, 1.0, 1.0, 0.0, 1.0, 0.0, 1.0, 1.0, 1.0, 1.0, 1.0, 1.0, 1.0, 1.0, 1.0, 1.0, 1.0, 1.0, 1.0, 0.0, 0.0, 0.0, 1.0, 1.0, 0.0, 0.0, 0.0, 0.0, 0.0, 1.0, 1.0, 1.0, 1.0, 1.0, 1.0, 1.0, 1.0, 1.0, 1.0, 1.0, 1.0, 1.0, 1.0, 0.0, 1.0, 1.0, 1.0, 1.0, 0.0, 1.0, 1.0, 1.0, 1.0, 1.0, 1.0, 0.0, 1.0, 1.0, 0.0, 0.0, 0.0]\n"
     ]
    },
    {
     "name": "stderr",
     "output_type": "stream",
     "text": [
      "\n"
     ]
    }
   ],
   "source": [
    "from tqdm import tqdm\n",
    "\n",
    "sample_weather = np.linspace(0.0,4.0,5)\n",
    "test_size = test_data.shape[0]\n",
    "predicted_weather = []\n",
    "for i in tqdm(range(test_size)):\n",
    "    previous_days_start_index = max(0, i-num_previous_days)\n",
    "    previous_days_end_index = max(0, i)\n",
    "    previous_days = extract_features(augment_features(test_data.iloc[previous_days_start_index:previous_days_end_index]))\n",
    "    \n",
    "    likelihood_scores = []\n",
    "    for weather in sample_weather:\n",
    "        current_day = [test_data['Encode Season'][i], test_data['Encode Temp'][i], test_data['Encode Precipitation'][i], test_data['Encode Wind'][i],weather]\n",
    "        sequence = np.row_stack((previous_days, current_day))\n",
    "        likelihood_scores.append(model.score(sequence))\n",
    "    most_probable_weather = sample_weather[np.argmax(likelihood_scores)]\n",
    "    predicted_weather.append(most_probable_weather)\n",
    "\n",
    "print(predicted_weather)"
   ]
  },
  {
   "cell_type": "code",
   "execution_count": null,
   "id": "fb139db4",
   "metadata": {},
   "outputs": [
    {
     "name": "stdout",
     "output_type": "stream",
     "text": [
      "0.8668941979522184\n"
     ]
    }
   ],
   "source": [
    "count = 0\n",
    "for i in range(test_size):\n",
    "    if test_data['Encode Weather'][i] == predicted_weather[i]:\n",
    "        count += 1\n",
    "accuracy = float(count/test_size)\n",
    "\n",
    "\n",
    "print(accuracy)\n",
    "\n",
    "\n"
   ]
  },
  {
   "cell_type": "code",
   "execution_count": null,
   "id": "dadf5558",
   "metadata": {},
   "outputs": [],
   "source": [
    "def score(predicted_weather):\n",
    "    count = 0\n",
    "    for i in range(test_size):\n",
    "        if test_data['Encode Weather'][i] == predicted_weather[i]:\n",
    "            count += 1\n",
    "    return float(count/test_size)"
   ]
  },
  {
   "cell_type": "code",
   "execution_count": null,
   "id": "21a190a6",
   "metadata": {},
   "outputs": [
    {
     "name": "stdout",
     "output_type": "stream",
     "text": [
      "(n_components, num_previous_days, score) 1 1 0.37542662116040953\n",
      "(n_components, num_previous_days, score) 1 2 0.37542662116040953\n",
      "(n_components, num_previous_days, score) 1 3 0.37542662116040953\n",
      "(n_components, num_previous_days, score) 1 4 0.37542662116040953\n",
      "(n_components, num_previous_days, score) 1 5 0.37542662116040953\n",
      "(n_components, num_previous_days, score) 1 6 0.37542662116040953\n",
      "(n_components, num_previous_days, score) 1 7 0.37542662116040953\n",
      "(n_components, num_previous_days, score) 2 1 0.37542662116040953\n",
      "(n_components, num_previous_days, score) 2 2 0.37542662116040953\n",
      "(n_components, num_previous_days, score) 2 3 0.37542662116040953\n",
      "(n_components, num_previous_days, score) 2 4 0.37542662116040953\n",
      "(n_components, num_previous_days, score) 2 5 0.37542662116040953\n",
      "(n_components, num_previous_days, score) 2 6 0.37542662116040953\n",
      "(n_components, num_previous_days, score) 2 7 0.37542662116040953\n",
      "(n_components, num_previous_days, score) 3 1 0.37542662116040953\n",
      "(n_components, num_previous_days, score) 3 2 0.37542662116040953\n",
      "(n_components, num_previous_days, score) 3 3 0.37542662116040953\n",
      "(n_components, num_previous_days, score) 3 4 0.37542662116040953\n",
      "(n_components, num_previous_days, score) 3 5 0.37542662116040953\n",
      "(n_components, num_previous_days, score) 3 6 0.37542662116040953\n",
      "(n_components, num_previous_days, score) 3 7 0.37542662116040953\n",
      "(n_components, num_previous_days, score) 4 1 0.8668941979522184\n",
      "(n_components, num_previous_days, score) 4 2 0.8668941979522184\n",
      "(n_components, num_previous_days, score) 4 3 0.8668941979522184\n",
      "(n_components, num_previous_days, score) 4 4 0.8668941979522184\n",
      "(n_components, num_previous_days, score) 4 5 0.8668941979522184\n",
      "(n_components, num_previous_days, score) 4 6 0.8668941979522184\n",
      "(n_components, num_previous_days, score) 4 7 0.8668941979522184\n",
      "(n_components, num_previous_days, score) 5 1 0.8668941979522184\n",
      "(n_components, num_previous_days, score) 5 2 0.8668941979522184\n",
      "(n_components, num_previous_days, score) 5 3 0.8668941979522184\n",
      "(n_components, num_previous_days, score) 5 4 0.8668941979522184\n",
      "(n_components, num_previous_days, score) 5 5 0.8668941979522184\n",
      "(n_components, num_previous_days, score) 5 6 0.8668941979522184\n",
      "(n_components, num_previous_days, score) 5 7 0.8668941979522184\n",
      "(n_components, num_previous_days, score) 6 1 0.8668941979522184\n",
      "(n_components, num_previous_days, score) 6 2 0.8668941979522184\n",
      "(n_components, num_previous_days, score) 6 3 0.8668941979522184\n",
      "(n_components, num_previous_days, score) 6 4 0.8668941979522184\n",
      "(n_components, num_previous_days, score) 6 5 0.8668941979522184\n",
      "(n_components, num_previous_days, score) 6 6 0.8668941979522184\n",
      "(n_components, num_previous_days, score) 6 7 0.8668941979522184\n",
      "(n_components, num_previous_days, score) 7 1 0.8532423208191127\n",
      "(n_components, num_previous_days, score) 7 2 0.8600682593856656\n",
      "(n_components, num_previous_days, score) 7 3 0.8600682593856656\n",
      "(n_components, num_previous_days, score) 7 4 0.8600682593856656\n",
      "(n_components, num_previous_days, score) 7 5 0.8600682593856656\n",
      "(n_components, num_previous_days, score) 7 6 0.8600682593856656\n",
      "(n_components, num_previous_days, score) 7 7 0.8600682593856656\n",
      "(n_components, num_previous_days, score) 8 1 0.8464163822525598\n",
      "(n_components, num_previous_days, score) 8 2 0.8498293515358362\n",
      "(n_components, num_previous_days, score) 8 3 0.8361774744027304\n",
      "(n_components, num_previous_days, score) 8 4 0.825938566552901\n",
      "(n_components, num_previous_days, score) 8 5 0.8088737201365188\n",
      "(n_components, num_previous_days, score) 8 6 0.8054607508532423\n",
      "(n_components, num_previous_days, score) 8 7 0.8054607508532423\n",
      "(n_components, num_previous_days, score) 9 1 0.8327645051194539\n",
      "(n_components, num_previous_days, score) 9 2 0.8122866894197952\n",
      "(n_components, num_previous_days, score) 9 3 0.8156996587030717\n",
      "(n_components, num_previous_days, score) 9 4 0.8156996587030717\n",
      "(n_components, num_previous_days, score) 9 5 0.8225255972696246\n",
      "(n_components, num_previous_days, score) 9 6 0.8225255972696246\n",
      "(n_components, num_previous_days, score) 9 7 0.8225255972696246\n",
      "(n_components, num_previous_days, score) 10 1 0.8327645051194539\n",
      "(n_components, num_previous_days, score) 10 2 0.856655290102389\n",
      "(n_components, num_previous_days, score) 10 3 0.8600682593856656\n",
      "(n_components, num_previous_days, score) 10 4 0.8600682593856656\n",
      "(n_components, num_previous_days, score) 10 5 0.8600682593856656\n",
      "(n_components, num_previous_days, score) 10 6 0.8600682593856656\n",
      "(n_components, num_previous_days, score) 10 7 0.8600682593856656\n"
     ]
    }
   ],
   "source": [
    "import matplotlib.pyplot as plt\n",
    "\n",
    "n_component_values = [1,2,3,4,5,6,7,8,9,10]\n",
    "arr_previous_days = [1,2,3,4,5,6,7]\n",
    "\n",
    "for n in n_component_values:\n",
    "    tmp_model = GaussianHMM(n_components = n, random_state = 123)\n",
    "    tmp_model.fit(features)\n",
    "    for tmp_num_previous_days in arr_previous_days: \n",
    "        sample_weather = np.linspace(0.0,4.0,5)\n",
    "        test_size = test_data.shape[0]\n",
    "        tmp_predicted_weather = []\n",
    "        for i in range(test_size):\n",
    "            previous_days_start_index = max(0, i-tmp_num_previous_days)\n",
    "            previous_days_end_index = max(0, i)\n",
    "            previous_days = extract_features(augment_features(test_data.iloc[previous_days_start_index:previous_days_end_index]))\n",
    "    \n",
    "            likelihood_scores = []\n",
    "            for weather in sample_weather:\n",
    "                current_day = [test_data['Encode Season'][i], test_data['Encode Temp'][i], test_data['Encode Precipitation'][i], test_data['Encode Wind'][i],weather]\n",
    "                sequence = np.row_stack((previous_days, current_day))\n",
    "                likelihood_scores.append(tmp_model.score(sequence))\n",
    "            most_probable_weather = sample_weather[np.argmax(likelihood_scores)]\n",
    "            tmp_predicted_weather.append(most_probable_weather)\n",
    "        print(\"(n_components, num_previous_days, score)\", n, tmp_num_previous_days,score(tmp_predicted_weather))"
   ]
  },
  {
   "cell_type": "code",
   "execution_count": null,
   "id": "ce6f4281",
   "metadata": {},
   "outputs": [],
   "source": []
  },
  {
   "cell_type": "code",
   "execution_count": null,
   "id": "d57cd4ce",
   "metadata": {},
   "outputs": [],
   "source": []
  }
 ],
 "metadata": {
  "kernelspec": {
   "display_name": "Python 3 (ipykernel)",
   "language": "python",
   "name": "python3"
  },
  "language_info": {
   "codemirror_mode": {
    "name": "ipython",
    "version": 3
   },
   "file_extension": ".py",
   "mimetype": "text/x-python",
   "name": "python",
   "nbconvert_exporter": "python",
   "pygments_lexer": "ipython3",
   "version": "3.11.5"
  }
 },
 "nbformat": 4,
 "nbformat_minor": 5
}
