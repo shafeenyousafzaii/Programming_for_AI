{
  "nbformat": 4,
  "nbformat_minor": 0,
  "metadata": {
    "colab": {
      "provenance": []
    },
    "kernelspec": {
      "name": "python3",
      "display_name": "Python 3"
    },
    "language_info": {
      "name": "python"
    }
  },
  "cells": [
    {
      "cell_type": "markdown",
      "source": [
        "# **1. Lambda**\n",
        "- Anonymous functions in Python roughly means functions with no name\n",
        "- We can write an anonymous function in Python using the lambda keyword.\n",
        "- A lambda function is defined without a name.\n",
        "- It is defined using the `lambda` keyword.\n",
        "- A lambda function can have one or more arguments.\n",
        "- But it will have only one expression. This is why a lambda function is often called a lambda expression.\n",
        "\n",
        "\n",
        "#### **Syntax**\n",
        "```\n",
        "lambda argument(s): expression\n",
        "```\n",
        "\n"
      ],
      "metadata": {
        "id": "-ofq3JI-f5Rs"
      }
    },
    {
      "cell_type": "code",
      "source": [
        "def identity_func(val):\n",
        "    return val\n",
        "\n",
        "print(identity_func(100))"
      ],
      "metadata": {
        "colab": {
          "base_uri": "https://localhost:8080/"
        },
        "id": "pTuSjfHPJEis",
        "outputId": "cbb58c60-4769-45cb-d36a-962194a718c1"
      },
      "execution_count": null,
      "outputs": [
        {
          "output_type": "stream",
          "name": "stdout",
          "text": [
            "100\n"
          ]
        }
      ]
    },
    {
      "cell_type": "code",
      "source": [
        "x = lambda val:val\n",
        "print(x(100))"
      ],
      "metadata": {
        "colab": {
          "base_uri": "https://localhost:8080/"
        },
        "id": "MnmI0WJ_gZEC",
        "outputId": "1e787c1f-44cb-401a-82f6-5e2c5b5b807a"
      },
      "execution_count": 26,
      "outputs": [
        {
          "output_type": "stream",
          "name": "stdout",
          "text": [
            "10000\n"
          ]
        }
      ]
    },
    {
      "cell_type": "markdown",
      "source": [
        "# **2. Zip**\n",
        "- The zip() function takes iterables (can be zero or more), aggregates them in a tuple, and returns it.\n",
        "- The iterables you pass to zip can be lists, tuples, strings, or any other iterable objects\n",
        "\n",
        "### **Syntax**\n",
        "`zip(iterable1, iterable2, ...)`\n"
      ],
      "metadata": {
        "id": "5dlbext0LDBe"
      }
    },
    {
      "cell_type": "code",
      "source": [
        "zipped = zip(range(4),'ABCD')\n",
        "print(tuple(zipped))"
      ],
      "metadata": {
        "colab": {
          "base_uri": "https://localhost:8080/"
        },
        "id": "hCzlMCbcnq_l",
        "outputId": "f8705039-4e7c-4651-9f5f-8f3144cbc4ab"
      },
      "execution_count": 8,
      "outputs": [
        {
          "output_type": "stream",
          "name": "stdout",
          "text": [
            "((0, 'A'), (1, 'B'), (2, 'C'), (3, 'D'))\n"
          ]
        }
      ]
    },
    {
      "cell_type": "markdown",
      "source": [
        "# **3. Map**\n",
        "- The map() function applies a given function to each element of an iterable (list, tuple etc.) and returns an iterator containing the results.\n",
        "- It can be used to transform data efficiently.\n",
        "\n",
        "\n",
        "### **Syntax**\n",
        "\n",
        "```\n",
        "# map(function, iterable, ...)\n",
        "```\n"
      ],
      "metadata": {
        "id": "7YqL4OOkM7qN"
      }
    },
    {
      "cell_type": "code",
      "source": [
        "def squared(number):\n",
        "  return number * number\n",
        "\n",
        "mapped = map(squared,range(1,5))\n",
        "print(list(mapped))"
      ],
      "metadata": {
        "colab": {
          "base_uri": "https://localhost:8080/"
        },
        "id": "4xZopw4IsHjd",
        "outputId": "dd1add1d-92b8-4775-a3cd-8e102e6c97c4"
      },
      "execution_count": 11,
      "outputs": [
        {
          "output_type": "stream",
          "name": "stdout",
          "text": [
            "[1, 4, 9, 16]\n"
          ]
        }
      ]
    },
    {
      "cell_type": "markdown",
      "source": [
        "# **4. Filter**\n",
        "- The filter() function selects elements from an iterable (list, tuple etc.) based on the output of a function.\n",
        "- The function is applied to each element of the iterable and if it returns True, the element is selected by the filter() function.\n",
        "- In short it allows you to process an iterable and extract those items that satisfy a given condition\n",
        "\n",
        "### **Syntax**\n",
        "\n",
        "\n",
        "```\n",
        "# filter(function, iterable)\n",
        "```\n",
        "\n"
      ],
      "metadata": {
        "id": "zkAyXpXgM-YN"
      }
    },
    {
      "cell_type": "code",
      "source": [
        "number_list=[2,3,-4,-5,6,-7,8,-9,9,-2]\n",
        "def positive_numbers(number):\n",
        "  if number >0:\n",
        "    return number\n",
        "  return False\n",
        "\n",
        "filtered = filter(positive_numbers,number_list)\n",
        "\n",
        "print(list(filtered))"
      ],
      "metadata": {
        "colab": {
          "base_uri": "https://localhost:8080/"
        },
        "id": "jYqpV6Ulu36c",
        "outputId": "2fff0b04-abd6-4aa4-c475-c495db7a88a1"
      },
      "execution_count": 16,
      "outputs": [
        {
          "output_type": "stream",
          "name": "stdout",
          "text": [
            "[2, 3, 6, 8, 9]\n"
          ]
        }
      ]
    },
    {
      "cell_type": "markdown",
      "source": [
        "# **5. List manipulation**\n",
        "- Lambda, zip, map, and filter are powerful tools for manipulating lists in Python.\n",
        "- They allow you to perform various operations on lists and can make your code more concise and readable\n"
      ],
      "metadata": {
        "id": "C2UXrVqgJim9"
      }
    },
    {
      "cell_type": "markdown",
      "source": [
        "### **5.1 List manipulation with Lambda**"
      ],
      "metadata": {
        "id": "eltG5SiDNOtV"
      }
    },
    {
      "cell_type": "code",
      "source": [
        "mylist=[\"Hello\",\"Congratulations\",\"WHY\",\"Hell0\"]\n",
        "\n",
        "lowercase = lambda string: string.lower()\n",
        "print(list(map(lowercase,mylist)))"
      ],
      "metadata": {
        "colab": {
          "base_uri": "https://localhost:8080/"
        },
        "id": "heq-nJkNyQN0",
        "outputId": "2a0269ac-2228-4efa-d336-69ee793fa9a5"
      },
      "execution_count": 38,
      "outputs": [
        {
          "output_type": "stream",
          "name": "stdout",
          "text": [
            "['hello', 'congratulations', 'why', 'hell0']\n"
          ]
        }
      ]
    },
    {
      "cell_type": "code",
      "source": [
        "count = lambda x :len(x.upper())\n",
        "print(list(map(count,mylist)))"
      ],
      "metadata": {
        "colab": {
          "base_uri": "https://localhost:8080/"
        },
        "id": "uPyCtGpP7woE",
        "outputId": "93fa3154-f726-46f0-fbf0-86f5580adfb7"
      },
      "execution_count": 53,
      "outputs": [
        {
          "output_type": "stream",
          "name": "stdout",
          "text": [
            "[5, 15, 3, 5]\n"
          ]
        }
      ]
    },
    {
      "cell_type": "markdown",
      "source": [
        "### **5.2 List manipulation with Zip**"
      ],
      "metadata": {
        "id": "GTESM8HJNSAP"
      }
    },
    {
      "cell_type": "code",
      "source": [
        "list1=[3,4,5,6]\n",
        "list2=[\"A\",\"B\",\"C\",\"D\"]\n",
        "zipped = zip(list1,list2)\n",
        "print(list(zipped))\n"
      ],
      "metadata": {
        "colab": {
          "base_uri": "https://localhost:8080/"
        },
        "id": "yMWqX4MYz_kV",
        "outputId": "d4805705-24e4-4ae9-e264-114f5b50ce3d"
      },
      "execution_count": 62,
      "outputs": [
        {
          "output_type": "stream",
          "name": "stdout",
          "text": [
            "[(3, 'A'), (4, 'B'), (5, 'C'), (6, 'D')]\n"
          ]
        }
      ]
    },
    {
      "cell_type": "code",
      "source": [
        "coordinate = ['x', 'y', 'z']\n",
        "value = [3, 4, 5]\n",
        "\n",
        "result = zip(coordinate, value)\n",
        "result_list = list(result)\n",
        "print(result_list)\n",
        "\n",
        "c, v =  zip(*result_list)\n",
        "\n",
        "print('c =', c)\n",
        "print('v =', v)"
      ],
      "metadata": {
        "colab": {
          "base_uri": "https://localhost:8080/"
        },
        "id": "ZSz3t6_--cwE",
        "outputId": "7318efc4-8f00-42c2-def9-4969d93b8070"
      },
      "execution_count": 63,
      "outputs": [
        {
          "output_type": "stream",
          "name": "stdout",
          "text": [
            "[('x', 3), ('y', 4), ('z', 5)]\n",
            "c = ('x', 'y', 'z')\n",
            "v = (3, 4, 5)\n"
          ]
        }
      ]
    },
    {
      "cell_type": "markdown",
      "source": [
        "### **5.3 List manipulation with map**"
      ],
      "metadata": {
        "id": "yABS9BaYNWBd"
      }
    },
    {
      "cell_type": "code",
      "source": [
        "numbers = [1, 2, 3, 4, 5]\n",
        "doubled_numbers = list(map(lambda x: x * 2, numbers))\n",
        "print(doubled_numbers)\n"
      ],
      "metadata": {
        "colab": {
          "base_uri": "https://localhost:8080/"
        },
        "id": "owNpSQsP9d4E",
        "outputId": "74a041d4-dac0-47c9-b035-3f74628a07d1"
      },
      "execution_count": 57,
      "outputs": [
        {
          "output_type": "stream",
          "name": "stdout",
          "text": [
            "[2, 4, 6, 8, 10]\n"
          ]
        }
      ]
    },
    {
      "cell_type": "markdown",
      "source": [
        "### **5.4 List manipulation with Filter**"
      ],
      "metadata": {
        "id": "RJ-W4WvSNYjt"
      }
    },
    {
      "cell_type": "code",
      "source": [
        "numbers = [1, 2, 3, 4, 5, 6]\n",
        "even_numbers = list(filter(lambda x: x % 2 == 0, numbers))\n",
        "print(even_numbers)\n"
      ],
      "metadata": {
        "colab": {
          "base_uri": "https://localhost:8080/"
        },
        "id": "IlDWBP009U1M",
        "outputId": "7a23ee27-fdc1-4398-faa9-a6e961970695"
      },
      "execution_count": 55,
      "outputs": [
        {
          "output_type": "stream",
          "name": "stdout",
          "text": [
            "[2, 4, 6]\n"
          ]
        }
      ]
    }
  ]
}