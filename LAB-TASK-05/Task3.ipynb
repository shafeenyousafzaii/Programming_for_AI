{
  "nbformat": 4,
  "nbformat_minor": 0,
  "metadata": {
    "colab": {
      "provenance": []
    },
    "kernelspec": {
      "name": "python3",
      "display_name": "Python 3"
    },
    "language_info": {
      "name": "python"
    }
  },
  "cells": [
    {
      "cell_type": "code",
      "source": [
        "import datetime import date\n",
        "items = [\"Milk\", \"Bread\", \"Eggs\", \"Yogurt\", \"Cheese\"]\n",
        "expiration_dates = [date(2023, 9, 30), date(2023, 10, 15),\n",
        "date(2023, 9, 25), date(2023, 9, 8), date(2023, 10, 10)]\n",
        "current_date = date.today()\n",
        "for item , Exp in zip (items, expiration_dates):\n",
        "    if current_date < Exp:\n",
        "        print(f\" {item} expires on  ({Exp})\")"
      ],
      "metadata": {
        "colab": {
          "base_uri": "https://localhost:8080/",
          "height": 140
        },
        "id": "hwamSMwaCFtW",
        "outputId": "27602651-1533-44f3-e076-1576dca55ed1"
      },
      "execution_count": 3,
      "outputs": [
        {
          "output_type": "error",
          "ename": "SyntaxError",
          "evalue": "ignored",
          "traceback": [
            "\u001b[0;36m  File \u001b[0;32m\"<ipython-input-3-4d25a9bc0648>\"\u001b[0;36m, line \u001b[0;32m1\u001b[0m\n\u001b[0;31m    import datetime import date\u001b[0m\n\u001b[0m                    ^\u001b[0m\n\u001b[0;31mSyntaxError\u001b[0m\u001b[0;31m:\u001b[0m invalid syntax\n"
          ]
        }
      ]
    }
  ]
}