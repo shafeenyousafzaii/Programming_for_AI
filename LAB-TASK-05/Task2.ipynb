{
  "nbformat": 4,
  "nbformat_minor": 0,
  "metadata": {
    "colab": {
      "provenance": []
    },
    "kernelspec": {
      "name": "python3",
      "display_name": "Python 3"
    },
    "language_info": {
      "name": "python"
    }
  },
  "cells": [
    {
      "cell_type": "code",
      "execution_count": 57,
      "metadata": {
        "colab": {
          "base_uri": "https://localhost:8080/"
        },
        "id": "8VFLsuKj0Ne0",
        "outputId": "19b95aa2-eb0e-4b97-900a-ae4641519a4c"
      },
      "outputs": [
        {
          "output_type": "stream",
          "name": "stdout",
          "text": [
            "[91603, 96765, 60699, 93526, 77374, 50005, 56522, 83317, 64438, 56652]\n",
            "(9160.300000000001, 9676.5, 6069.900000000001, 9352.6, 7737.400000000001, 5000.5, 5652.200000000001, 8331.7, 6443.8, 5665.200000000001)\n"
          ]
        }
      ],
      "source": [
        "import random as rand\n",
        "random_numbers = [rand.randint(50000, 100000) for _ in range(10)]\n",
        "print((random_numbers))\n",
        "\n",
        "x = lambda x : x * 0.10\n",
        "\n",
        "mapped = map(x,random_numbers)\n",
        "print(tuple(mapped))\n",
        "# print(len(random_numbers))\n",
        "# hello=lambda x: x+x*1.10\n",
        "# after_raise=list(map(hello,random_numbers))\n",
        "# # after_raise=raise_10percent(random)\n",
        "# print(type(after_raise))\n"
      ]
    },
    {
      "cell_type": "code",
      "source": [],
      "metadata": {
        "id": "jetI_k-C-smN"
      },
      "execution_count": null,
      "outputs": []
    }
  ]
}