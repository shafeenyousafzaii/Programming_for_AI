{
  "cells": [
    {
      "cell_type": "code",
      "execution_count": null,
      "metadata": {
        "colab": {
          "base_uri": "https://localhost:8080/"
        },
        "id": "dtcubdVDvAPK",
        "outputId": "841a79e2-ada4-433f-86ba-dfe3860db35d"
      },
      "outputs": [
        {
          "ename": "",
          "evalue": "",
          "output_type": "error",
          "traceback": [
            "\u001b[1;31mRunning cells with '.venv' requires the ipykernel package.\n",
            "\u001b[1;31mRun the following command to install 'ipykernel' into the Python environment. \n",
            "\u001b[1;31mCommand: '/home/shafeen/Documents/My-all-programs--/SEMESTER-3/Programming_for_AI/LAB-TASK-05/.venv/bin/python -m pip install ipykernel -U --force-reinstall'"
          ]
        }
      ],
      "source": [
        "word_list=[\"Apple\" , \"Banana\" , \"Avocado\" , \"Cherry \" , \"Apricot\" , \"Grapes\"]\n",
        "count=0\n",
        "new_list=lambda string:string[0]==\"A\"  or string[0]==\"a\"\n",
        "var=list(filter(new_list,word_list))\n",
        "count=len(var)\n",
        "print(var)\n",
        "print(count)\n"
      ]
    }
  ],
  "metadata": {
    "colab": {
      "provenance": []
    },
    "kernelspec": {
      "display_name": "Python 3",
      "name": "python3"
    },
    "language_info": {
      "name": "python",
      "version": "3.11.5"
    }
  },
  "nbformat": 4,
  "nbformat_minor": 0
}
