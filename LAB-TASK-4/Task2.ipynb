{
 "cells": [
  {
   "cell_type": "code",
   "execution_count": null,
   "metadata": {},
   "outputs": [],
   "source": [
    "import random as rand\n",
    "print(\"Welcome to the guessing game!\")\n",
    "print(\"Guess the secret number between 1 and 100 . You have 10 attemps\")\n",
    "List=[]\n",
    "for i in range(1,11):\n",
    "    winner=rand.randint(1,100)\n",
    "    guess=int(input(\"Guess the number \"))\n",
    "    List.append(guess)\n",
    "    if(guess== winner ):\n",
    "        print(f\"Congratulations! you guessed the secret number {winner} in {i} attempts\")\n",
    "        break\n",
    "    print(f\"Your guess({guess}) is too low . Previous guesses {List}\")\n",
    "print(\"OOPS! , you ran out of guesses , please try again later! \")"
   ]
  }
 ],
 "metadata": {
  "kernelspec": {
   "display_name": "Python 3",
   "language": "python",
   "name": "python3"
  },
  "language_info": {
   "codemirror_mode": {
    "name": "ipython",
    "version": 3
   },
   "file_extension": ".py",
   "mimetype": "text/x-python",
   "name": "python",
   "nbconvert_exporter": "python",
   "pygments_lexer": "ipython3",
   "version": "3.10.12"
  },
  "orig_nbformat": 4
 },
 "nbformat": 4,
 "nbformat_minor": 2
}
