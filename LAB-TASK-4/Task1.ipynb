{
 "cells": [
  {
   "cell_type": "code",
   "execution_count": 62,
   "metadata": {},
   "outputs": [
    {
     "name": "stdout",
     "output_type": "stream",
     "text": [
      "1 1050.00\n",
      "2 1102.50\n",
      "3 1157.62\n",
      "4 1215.51\n",
      "5 1276.28\n",
      "6 1340.10\n",
      "7 1407.10\n",
      "8 1477.46\n",
      "9 1551.33\n",
      "10 1628.89\n"
     ]
    }
   ],
   "source": [
    "p=1000\n",
    "r=0.05\n",
    "n=10\n",
    "for i in range(1,11):\n",
    "    calcuations=(p*(1+r))\n",
    "    calcuations=calcuations\n",
    "    p=calcuations\n",
    "    print(f\"{i} {calcuations:.2f}\")"
   ]
  }
 ],
 "metadata": {
  "kernelspec": {
   "display_name": "Python 3",
   "language": "python",
   "name": "python3"
  },
  "language_info": {
   "codemirror_mode": {
    "name": "ipython",
    "version": 3
   },
   "file_extension": ".py",
   "mimetype": "text/x-python",
   "name": "python",
   "nbconvert_exporter": "python",
   "pygments_lexer": "ipython3",
   "version": "3.10.12"
  },
  "orig_nbformat": 4
 },
 "nbformat": 4,
 "nbformat_minor": 2
}
