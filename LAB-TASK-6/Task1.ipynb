{
 "cells": [
  {
   "cell_type": "markdown",
   "metadata": {},
   "source": [
    "1. Write a python code to solve the given problem using sets:\n",
    "In a school, 80 students were surveyed about their favorite subjects. The\n",
    "results are as follows:\n",
    "• 45 students like Mathematics.\n",
    "• 35 students like Science.\n",
    "• 20 students like both Mathematics and Science.\n",
    "1. How many students like either Mathematics or Science or both?\n",
    "2. How many students like only Mathematics?\n",
    "3. How many students like only Science?"
   ]
  },
  {
   "cell_type": "code",
   "execution_count": 3,
   "metadata": {},
   "outputs": [
    {
     "name": "stdout",
     "output_type": "stream",
     "text": [
      "Students liking both or science or mathematics : 45\n",
      "Studetns liking only mathematics 25\n",
      "Students liking only Science 15\n"
     ]
    }
   ],
   "source": [
    "my_student_set=set((range(1,81)))\n",
    "my_math_set=set((range(1,46)))\n",
    "my_science_set=set((range(1,36)))\n",
    "my_both_set=set((range(1,21)))\n",
    "print(\"Students liking both or science or mathematics :\",len(my_both_set|my_math_set))\n",
    "print(\"Studetns liking only mathematics\",len(my_math_set.difference(my_both_set)))\n",
    "print(\"Students liking only Science\",len(my_science_set.difference(my_both_set)))"
   ]
  }
 ],
 "metadata": {
  "kernelspec": {
   "display_name": "Python 3",
   "language": "python",
   "name": "python3"
  },
  "language_info": {
   "codemirror_mode": {
    "name": "ipython",
    "version": 3
   },
   "file_extension": ".py",
   "mimetype": "text/x-python",
   "name": "python",
   "nbconvert_exporter": "python",
   "pygments_lexer": "ipython3",
   "version": "3.11.4"
  },
  "orig_nbformat": 4
 },
 "nbformat": 4,
 "nbformat_minor": 2
}
