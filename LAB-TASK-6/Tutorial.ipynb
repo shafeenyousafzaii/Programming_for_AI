{
 "cells": [
  {
   "cell_type": "code",
   "execution_count": 19,
   "metadata": {},
   "outputs": [
    {
     "name": "stdout",
     "output_type": "stream",
     "text": [
      "{1, 2, 3, 4, 'C', 'key2', 'B', 'key1', 'A'}\n",
      "The union is :  {1, 2, 3, 4, 5, 6}\n",
      "The union is :  {2, 3}\n",
      "The symmetric_differene is :  {2, 3}\n",
      "22\n",
      "age\n",
      "name\n",
      "CGPA\n",
      "age\n",
      "name\n",
      "CGPA\n"
     ]
    }
   ],
   "source": [
    "my_set={1,2,3,4}\n",
    "my_dict={\"key1\":\"argentina\",\"key2\":\"Pakistan\"}\n",
    "my_list=['A','B','C']\n",
    "my_set.update(my_list , my_dict)\n",
    "print(my_set)\n",
    "set_A={1,2,3,4,5,6}\n",
    "set_B={4,5,6,1}\n",
    "print(\"The union is : \",set_A|set_B)\n",
    "print(\"The union is : \",set_A.difference(set_B))\n",
    "print(\"The symmetric_differene is : \",set_A.symmetric_difference(set_B))\n",
    "the_dict={\"age\":22,\"name\":\"ALI\",\"CGPA\":3.9}\n",
    "print(the_dict[\"age\"])\n",
    "for v in the_dict:\n",
    "    print(v)\n",
    "for v in the_dict.keys():\n",
    "    print(v)"
   ]
  },
  {
   "cell_type": "code",
   "execution_count": null,
   "metadata": {},
   "outputs": [],
   "source": []
  }
 ],
 "metadata": {
  "kernelspec": {
   "display_name": "Python 3",
   "language": "python",
   "name": "python3"
  },
  "language_info": {
   "codemirror_mode": {
    "name": "ipython",
    "version": 3
   },
   "file_extension": ".py",
   "mimetype": "text/x-python",
   "name": "python",
   "nbconvert_exporter": "python",
   "pygments_lexer": "ipython3",
   "version": "3.11.4"
  },
  "orig_nbformat": 4
 },
 "nbformat": 4,
 "nbformat_minor": 2
}
