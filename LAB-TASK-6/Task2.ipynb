{
 "cells": [
  {
   "cell_type": "markdown",
   "metadata": {},
   "source": [
    "2. Write a Python function that takes a sentence as input and returns a\n",
    "dictionary where keys are unique words in the sentence, and values are the\n",
    "frequency of each word in the sentence.\n",
    "Example:\n",
    "Input: \"Hello world! This is a simple world.\"\n",
    "Output: {'Hello': 1, 'world!': 1, 'This': 1, 'is': 1, 'a': 1, 'simple': 1, 'world.': 1}"
   ]
  },
  {
   "cell_type": "code",
   "execution_count": 16,
   "metadata": {},
   "outputs": [
    {
     "name": "stdout",
     "output_type": "stream",
     "text": [
      "shafeen is our frinend\n",
      "{'shafeen': 1, 'is': 1, 'our': 1, 'frinend': 1}\n"
     ]
    }
   ],
   "source": [
    "def shafeen():\n",
    "    inputt=str(input(\"Enter a string\"))\n",
    "    print(inputt)\n",
    "    splitting=inputt.split()\n",
    "    freqq={}\n",
    "    for word in splitting:\n",
    "        # removing_word_comma=word.split()\n",
    "        # splitting=splitting.lower()\n",
    "        if word in freqq:\n",
    "            freqq[word]+=1\n",
    "        else:\n",
    "            freqq[word]=1\n",
    "    print(freqq)\n",
    "\n",
    "shafeen()\n",
    "# result=dictionaryy()\n",
    "# print(result)"
   ]
  },
  {
   "cell_type": "code",
   "execution_count": null,
   "metadata": {},
   "outputs": [],
   "source": []
  }
 ],
 "metadata": {
  "kernelspec": {
   "display_name": "Python 3",
   "language": "python",
   "name": "python3"
  },
  "language_info": {
   "codemirror_mode": {
    "name": "ipython",
    "version": 3
   },
   "file_extension": ".py",
   "mimetype": "text/x-python",
   "name": "python",
   "nbconvert_exporter": "python",
   "pygments_lexer": "ipython3",
   "version": "3.11.4"
  },
  "orig_nbformat": 4
 },
 "nbformat": 4,
 "nbformat_minor": 2
}
