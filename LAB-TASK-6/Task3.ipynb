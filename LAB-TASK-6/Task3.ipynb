{
 "cells": [
  {
   "cell_type": "markdown",
   "metadata": {},
   "source": [
    "3. You are creating a fantasy video game. The data structure to model the\n",
    "player’s inventory will be a dictionary where the keys are string values\n",
    "describing the item in the inventory and the value is an integer value detailing\n",
    "how many of that item the player has. For example, the dictionary value\n",
    "{'rope': 1, 'torch': 6, 'gold coin': 42, 'dagger': 1, 'arrow': 12} means the player\n",
    "has 1 rope, 6 torches, 42 gold coins, and so on.\n",
    "Write a function named displayInventory() that would take any possible\n",
    "“inventory” and display it like the following:\n",
    "Inventory:\n",
    "12 arrow\n",
    "42 gold coin\n",
    "1 rope\n",
    "6 torch\n",
    "1 dagger\n",
    "Total number of items: 62"
   ]
  },
  {
   "cell_type": "code",
   "execution_count": 31,
   "metadata": {},
   "outputs": [
    {
     "name": "stdout",
     "output_type": "stream",
     "text": [
      "rope  1\n",
      "torch  6\n",
      "gold coin  42\n",
      "dagger  1\n",
      "arrow  12\n",
      "Total items:62\n"
     ]
    }
   ],
   "source": [
    "def display_Inventory(inv):\n",
    "    for i , g in inv.items():\n",
    "        print(f\"{i}  {g}\")\n",
    "    total=0\n",
    "    for v in inv.values():\n",
    "        total=total+v\n",
    "    print(f\"Total items:{total}\")\n",
    "sir_dict={'rope': 1, 'torch': 6, 'gold coin': 42, 'dagger': 1, 'arrow': 12}\n",
    "display_Inventory(sir_dict)\n",
    "\n"
   ]
  },
  {
   "cell_type": "code",
   "execution_count": null,
   "metadata": {},
   "outputs": [],
   "source": []
  }
 ],
 "metadata": {
  "kernelspec": {
   "display_name": "Python 3",
   "language": "python",
   "name": "python3"
  },
  "language_info": {
   "codemirror_mode": {
    "name": "ipython",
    "version": 3
   },
   "file_extension": ".py",
   "mimetype": "text/x-python",
   "name": "python",
   "nbconvert_exporter": "python",
   "pygments_lexer": "ipython3",
   "version": "3.11.4"
  },
  "orig_nbformat": 4
 },
 "nbformat": 4,
 "nbformat_minor": 2
}
