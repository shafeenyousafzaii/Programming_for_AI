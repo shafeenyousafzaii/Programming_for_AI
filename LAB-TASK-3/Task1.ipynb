{
 "cells": [
  {
   "cell_type": "code",
   "execution_count": null,
   "metadata": {},
   "outputs": [],
   "source": [
    "def chatbot():\n",
    "    choices = [\"exit\", \"bye\", \"quit\"]\n",
    "    while True:\n",
    "        print(\"What operation do you want to perform today?\")\n",
    "        print(\"Enter 'exit', 'bye', or 'quit' to end the process.\")\n",
    "        print(\"For mathematical operations, enter 'Do addition for me'\")\n",
    "        choice = input().lower()\n",
    "\n",
    "        if choice in choices:\n",
    "            print(\"Goodbye!\")\n",
    "            break\n",
    "\n",
    "        if choice == \"do addition for me\":\n",
    "            print(\"Enter a number to add:\")\n",
    "            x = int(input())\n",
    "            print(\"Enter another number:\")\n",
    "            y = int(input())\n",
    "            result = x + y\n",
    "            print(f\"The sum is: {result}\")\n",
    "        else:\n",
    "            print(\"You entered a wrong input. Please try again.\")\n",
    "\n",
    "print(\"Hello sir/Madam, how may I assist you today?\")\n",
    "chatbot()\n"
   ]
  },
  {
   "cell_type": "code",
   "execution_count": null,
   "metadata": {},
   "outputs": [],
   "source": []
  }
 ],
 "metadata": {
  "kernelspec": {
   "display_name": "Python 3",
   "language": "python",
   "name": "python3"
  },
  "language_info": {
   "codemirror_mode": {
    "name": "ipython",
    "version": 3
   },
   "file_extension": ".py",
   "mimetype": "text/x-python",
   "name": "python",
   "nbconvert_exporter": "python",
   "pygments_lexer": "ipython3",
   "version": "3.10.12"
  },
  "orig_nbformat": 4
 },
 "nbformat": 4,
 "nbformat_minor": 2
}
