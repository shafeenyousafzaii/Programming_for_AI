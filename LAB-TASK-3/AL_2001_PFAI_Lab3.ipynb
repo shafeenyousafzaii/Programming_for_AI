{
  "nbformat": 4,
  "nbformat_minor": 0,
  "metadata": {
    "colab": {
      "provenance": []
    },
    "kernelspec": {
      "name": "python3",
      "display_name": "Python 3"
    },
    "language_info": {
      "name": "python"
    }
  },
  "cells": [
    {
      "cell_type": "markdown",
      "source": [
        "# **1. Functions**\n",
        "- You’re already familiar with the print(), input(), and len() functions from the previous chapters. Python provides several built-in functions like these, but you can also write your own functions. A function is like a miniprogram within a program.\n"
      ],
      "metadata": {
        "id": "-ofq3JI-f5Rs"
      }
    },
    {
      "cell_type": "code",
      "source": [
        "def hello(): #def is the key word to define a function name hello\n",
        "  print(\"Hello\")\n",
        "  print(\"Howdy\")\n",
        "  print(\"how are you doing???\")\n",
        "\n",
        "hello()"
      ],
      "metadata": {
        "colab": {
          "base_uri": "https://localhost:8080/"
        },
        "id": "MnmI0WJ_gZEC",
        "outputId": "b333d430-10e9-450b-b4a8-a69b9dda7b8e"
      },
      "execution_count": 2,
      "outputs": [
        {
          "output_type": "stream",
          "name": "stdout",
          "text": [
            "Hello\n",
            "Howdy\n",
            "how are you doing???\n"
          ]
        }
      ]
    },
    {
      "cell_type": "code",
      "source": [
        "def lostforest():\n",
        "  print(\"Welcome to the Enchanted Forest!\")\n",
        "  print(\"You are about to embark on a magical adventure.\")\n",
        "  print(\"You have five steps to explore the forest.\")\n",
        "\n",
        "  for step in range(1, 6):\n",
        "    choice = input(f\"Step {step}: Choose your path (left/right): \")\n",
        "\n",
        "    if choice.lower() == \"left\": #lower() convert a string to lower case\n",
        "        print(\"You encountered a friendly forest creature.\")\n",
        "    elif choice.lower() == \"right\":\n",
        "        print(\"You found a hidden treasure chest!\")\n",
        "    else:\n",
        "        print(\"Invalid choice. You must choose 'left' or 'right'.\")\n",
        "\n",
        "  print(\"Congratulations! You successfully explored the Enchanted Forest.\")\n",
        "  print(\"Do you want to play again? Press y for yes\")\n",
        "  again=input()\n",
        "  if again.lower()=='y':\n",
        "    lostforest()\n",
        "\n",
        "lostforest()"
      ],
      "metadata": {
        "colab": {
          "base_uri": "https://localhost:8080/"
        },
        "id": "dsoY2XJWkllt",
        "outputId": "1c2b4481-657a-4e41-d186-b6d69f6c4f13"
      },
      "execution_count": 3,
      "outputs": [
        {
          "name": "stdout",
          "output_type": "stream",
          "text": [
            "Welcome to the Enchanted Forest!\n",
            "You are about to embark on a magical adventure.\n",
            "You have five steps to explore the forest.\n",
            "Step 1: Choose your path (left/right): left\n",
            "You encountered a friendly forest creature.\n",
            "Step 2: Choose your path (left/right): left\n",
            "You encountered a friendly forest creature.\n",
            "Step 3: Choose your path (left/right): left\n",
            "You encountered a friendly forest creature.\n",
            "Step 4: Choose your path (left/right): left\n",
            "You encountered a friendly forest creature.\n",
            "Step 5: Choose your path (left/right): left\n",
            "You encountered a friendly forest creature.\n",
            "Congratulations! You successfully explored the Enchanted Forest.\n",
            "Do you want to play again? Press y for yes\n",
            "n\n"
          ]
        }
      ]
    },
    {
      "cell_type": "markdown",
      "source": [
        "## 1.1 Function Parameters:\n"
      ],
      "metadata": {
        "id": "R7jp0ym-h2Hv"
      }
    },
    {
      "cell_type": "code",
      "source": [
        "def myname(name):\n",
        "  print('hello '+name)\n",
        "\n",
        "myname('AI-Bot')"
      ],
      "metadata": {
        "colab": {
          "base_uri": "https://localhost:8080/"
        },
        "id": "rM__CKUcmz-C",
        "outputId": "448e2a1b-ff11-43bf-8d68-ced6797aa0b9"
      },
      "execution_count": 4,
      "outputs": [
        {
          "output_type": "stream",
          "name": "stdout",
          "text": [
            "hello AI-Bot\n"
          ]
        }
      ]
    },
    {
      "cell_type": "markdown",
      "source": [
        "## 1.2 Return Value and Statment:"
      ],
      "metadata": {
        "id": "sY6q09SOoU3M"
      }
    },
    {
      "cell_type": "code",
      "source": [
        "import random\n",
        "def getAnswer(answerNumber):\n",
        "  if answerNumber == 1:\n",
        "    return 'It is certain'\n",
        "  elif answerNumber == 2:\n",
        "    return 'It is decidedly so'\n",
        "  elif answerNumber == 3:\n",
        "    return 'Yes'\n",
        "  elif answerNumber == 4:\n",
        "    return 'Reply hazy try again'\n",
        "  elif answerNumber == 5:\n",
        "     return 'Ask again later'\n",
        "  elif answerNumber == 6:\n",
        "    return 'Concentrate and ask again'\n",
        "  elif answerNumber == 7:\n",
        "    return 'My reply is no'\n",
        "  elif answerNumber == 8:\n",
        "    return 'Outlook not so good'\n",
        "  elif answerNumber == 9:\n",
        "    return 'Very doubtful'\n",
        "\n",
        "r = random.randint(1,9)\n",
        "fortune = getAnswer(r)\n",
        "print(fortune)"
      ],
      "metadata": {
        "colab": {
          "base_uri": "https://localhost:8080/"
        },
        "id": "vFYum6n7oTnZ",
        "outputId": "69264ffc-dbe4-4026-da3b-a6baa2fdf8d1"
      },
      "execution_count": 5,
      "outputs": [
        {
          "output_type": "stream",
          "name": "stdout",
          "text": [
            "It is certain\n"
          ]
        }
      ]
    },
    {
      "cell_type": "markdown",
      "source": [
        "# **2. Lists:**\n",
        "- Ordered sequence of information, accessible by index\n",
        "- A list is denoted by square brackets, [ ]\n",
        "- A list contains elements\n",
        "> 1.   usually homogeneous (ie, all integers)\n",
        "> 2.   can contain mixed types (not common)\n",
        "- List elements can be changed so a list is mutable\n",
        "\n",
        "\n"
      ],
      "metadata": {
        "id": "HV1mTJQHUYOD"
      }
    },
    {
      "cell_type": "code",
      "source": [
        "homogeneous=[\"Apple\",\"Mangoes\",\"Banana\"] # homogeneous\n",
        "mixed= [\"Apple\",\"Mangoes\",\"Banana\",23,1,True] #Mixed Type\n",
        "print(homogeneous)\n",
        "print(mixed)"
      ],
      "metadata": {
        "colab": {
          "base_uri": "https://localhost:8080/"
        },
        "id": "RFQ2XV8caJm2",
        "outputId": "c3e51f6e-ebe3-4167-96e1-7d79319f1fad"
      },
      "execution_count": 18,
      "outputs": [
        {
          "output_type": "stream",
          "name": "stdout",
          "text": [
            "['Apple', 'Mangoes', 'Banana']\n",
            "['Apple', 'Mangoes', 'Banana', 23, 1, True]\n"
          ]
        }
      ]
    },
    {
      "cell_type": "markdown",
      "source": [
        "## 2.1 List Operations:"
      ],
      "metadata": {
        "id": "U_CoXecXdBxI"
      }
    },
    {
      "cell_type": "markdown",
      "source": [
        "### Accessing Examples:"
      ],
      "metadata": {
        "id": "ZoU0U1x8eZ9F"
      }
    },
    {
      "cell_type": "code",
      "source": [
        "homogeneous[2]"
      ],
      "metadata": {
        "colab": {
          "base_uri": "https://localhost:8080/",
          "height": 35
        },
        "id": "CDt172KIcGza",
        "outputId": "76ecb9a1-e371-4577-826c-ce5cd8483c2b"
      },
      "execution_count": 19,
      "outputs": [
        {
          "output_type": "execute_result",
          "data": {
            "text/plain": [
              "'Banana'"
            ],
            "application/vnd.google.colaboratory.intrinsic+json": {
              "type": "string"
            }
          },
          "metadata": {},
          "execution_count": 19
        }
      ]
    },
    {
      "cell_type": "markdown",
      "source": [
        "OR"
      ],
      "metadata": {
        "id": "GFfQEPSkdHXo"
      }
    },
    {
      "cell_type": "code",
      "source": [
        "print(homogeneous[2])"
      ],
      "metadata": {
        "colab": {
          "base_uri": "https://localhost:8080/"
        },
        "id": "Is2uYVMkcPKW",
        "outputId": "fbdad3ec-3476-4cbc-f8f5-f463e90bc015"
      },
      "execution_count": 20,
      "outputs": [
        {
          "output_type": "stream",
          "name": "stdout",
          "text": [
            "Banana\n"
          ]
        }
      ]
    },
    {
      "cell_type": "code",
      "source": [
        "for i in range(len(mixed)):\n",
        "  print(mixed[i])"
      ],
      "metadata": {
        "colab": {
          "base_uri": "https://localhost:8080/"
        },
        "id": "ijoG8jNkddXR",
        "outputId": "a177365f-b300-4b50-a472-61bc7b1167a4"
      },
      "execution_count": 21,
      "outputs": [
        {
          "output_type": "stream",
          "name": "stdout",
          "text": [
            "Apple\n",
            "Mangoes\n",
            "Banana\n",
            "23\n",
            "1\n",
            "True\n"
          ]
        }
      ]
    },
    {
      "cell_type": "code",
      "source": [
        "for index,elements in enumerate(mixed):\n",
        "  print(f\"Index {index}: {elements}\")"
      ],
      "metadata": {
        "colab": {
          "base_uri": "https://localhost:8080/"
        },
        "id": "YiTJ2ebWmdsQ",
        "outputId": "879f1afc-46e5-426e-937a-daa1c976d673"
      },
      "execution_count": 28,
      "outputs": [
        {
          "output_type": "stream",
          "name": "stdout",
          "text": [
            "Index 0: Apple\n",
            "Index 1: Mangoes\n",
            "Index 2: Banana\n",
            "Index 3: 23\n",
            "Index 4: 1\n",
            "Index 5: True\n"
          ]
        }
      ]
    },
    {
      "cell_type": "markdown",
      "source": [
        "#### Range VS Enumerate:\n",
        "- range() is a built-in function used to iterate through a sequence of numbers. Some common use cases would be to iterate from the numbers 0 to 10:\n",
        "\n",
        "- enumerate() is a built-in function to iterate through a sequence and keep track of both the index and the number. You can pass in an optional start parameter to indicate which number the index should start at:"
      ],
      "metadata": {
        "id": "yVvEYxqBnoQo"
      }
    },
    {
      "cell_type": "markdown",
      "source": [
        "### Modifying Example(s)"
      ],
      "metadata": {
        "id": "-UAw8krMefE-"
      }
    },
    {
      "cell_type": "code",
      "source": [
        "for i in range(len(homogeneous)):\n",
        "  if homogeneous[i]==\"Banana\":\n",
        "    homogeneous[i] = \"Kiwi\"\n",
        "  print(homogeneous[i])"
      ],
      "metadata": {
        "colab": {
          "base_uri": "https://localhost:8080/"
        },
        "id": "0MbYZEwpeWB7",
        "outputId": "255ce1b7-a11c-44be-e256-aee9bd6a7663"
      },
      "execution_count": 22,
      "outputs": [
        {
          "output_type": "stream",
          "name": "stdout",
          "text": [
            "Apple\n",
            "Mangoes\n",
            "Kiwi\n"
          ]
        }
      ]
    },
    {
      "cell_type": "markdown",
      "source": [
        "### Adding Example"
      ],
      "metadata": {
        "id": "r6xnrxK2gO6o"
      }
    },
    {
      "cell_type": "code",
      "source": [
        "homogeneous.append(\"Banana\")\n",
        "print(homogeneous)"
      ],
      "metadata": {
        "colab": {
          "base_uri": "https://localhost:8080/"
        },
        "id": "iIT71iTIgRoy",
        "outputId": "c5d25327-419a-4937-c469-97a397d60098"
      },
      "execution_count": 23,
      "outputs": [
        {
          "output_type": "stream",
          "name": "stdout",
          "text": [
            "['Apple', 'Mangoes', 'Kiwi', 'Banana']\n"
          ]
        }
      ]
    },
    {
      "cell_type": "code",
      "source": [
        "homogeneous.insert(1,\"Grapes\")\n",
        "print(homogeneous)"
      ],
      "metadata": {
        "colab": {
          "base_uri": "https://localhost:8080/"
        },
        "id": "qxBT6zjakt4d",
        "outputId": "e5422b93-dfbb-4a0f-f606-79234a751b51"
      },
      "execution_count": 24,
      "outputs": [
        {
          "output_type": "stream",
          "name": "stdout",
          "text": [
            "['Apple', 'Grapes', 'Mangoes', 'Kiwi', 'Banana']\n"
          ]
        }
      ]
    },
    {
      "cell_type": "markdown",
      "source": [
        "## Concatenation Examples:"
      ],
      "metadata": {
        "id": "KLDrUYIao_W4"
      }
    },
    {
      "cell_type": "code",
      "source": [
        "homogeneous.extend(mixed)\n",
        "print(homogeneous)"
      ],
      "metadata": {
        "colab": {
          "base_uri": "https://localhost:8080/"
        },
        "id": "r4rE-n7lpFFo",
        "outputId": "5b3453a4-ec4b-47cd-d8ba-2afc9933d826"
      },
      "execution_count": 29,
      "outputs": [
        {
          "output_type": "stream",
          "name": "stdout",
          "text": [
            "['Apple', 'Grapes', 'Mangoes', 'Kiwi', 'Banana', 'Apple', 'Mangoes', 'Banana', 23, 1, True]\n"
          ]
        }
      ]
    },
    {
      "cell_type": "markdown",
      "source": [
        "## Remove Elements Examples:"
      ],
      "metadata": {
        "id": "kyeNq0lNq9aM"
      }
    },
    {
      "cell_type": "code",
      "source": [
        "del(homogeneous[10]) #removes an element at the specified index\n",
        "print(homogeneous)"
      ],
      "metadata": {
        "colab": {
          "base_uri": "https://localhost:8080/"
        },
        "id": "Vko_YxcKrC1v",
        "outputId": "1a228bc7-62f5-4b37-dc01-1226c3473cc0"
      },
      "execution_count": 30,
      "outputs": [
        {
          "output_type": "stream",
          "name": "stdout",
          "text": [
            "['Apple', 'Grapes', 'Mangoes', 'Kiwi', 'Banana', 'Apple', 'Mangoes', 'Banana', 23, 1]\n"
          ]
        }
      ]
    },
    {
      "cell_type": "code",
      "source": [
        "homogeneous.remove(\"Mangoes\") #removes the mentioned element from the list\n",
        "print(homogeneous)"
      ],
      "metadata": {
        "colab": {
          "base_uri": "https://localhost:8080/"
        },
        "id": "25ZsHhf4rpZk",
        "outputId": "cf87a327-719b-458b-f94f-5854c3c9d0b1"
      },
      "execution_count": 32,
      "outputs": [
        {
          "output_type": "stream",
          "name": "stdout",
          "text": [
            "['Apple', 'Grapes', 'Kiwi', 'Banana', 'Apple', 'Banana', 23, 1]\n"
          ]
        }
      ]
    },
    {
      "cell_type": "code",
      "source": [],
      "metadata": {
        "id": "b7xG2LMRsToe"
      },
      "execution_count": null,
      "outputs": []
    }
  ]
}