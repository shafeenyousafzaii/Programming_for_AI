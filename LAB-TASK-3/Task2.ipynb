{
 "cells": [
  {
   "cell_type": "code",
   "execution_count": 1,
   "metadata": {},
   "outputs": [
    {
     "name": "stdout",
     "output_type": "stream",
     "text": [
      "Welcome to the adventure of the forest!!\n",
      "This game is designed to send you to paths where you shall discover different kinds of\n",
      "Enter \"Hello\" to proceed to the game\n",
      "Welcome, you are in the game!\n",
      "Press \"continue\" to proceed!\n",
      "Invalid input. Please enter 'continue' to proceed or 'quit' to exit.\n",
      "Goodbye! Thanks for playing.\n"
     ]
    }
   ],
   "source": [
    "print(\"Welcome to the adventure of the forest!!\")\n",
    "print(\"This game is designed to send you to paths where you shall discover different kinds of\")\n",
    "print('Enter \"Hello\" to proceed to the game')\n",
    "powers = [\"Sword\", \"Magic\", \"Help!\"]\n",
    "choice = input(\"Enter: \").lower()\n",
    "\n",
    "while choice == \"hello\":\n",
    "    print(\"Welcome, you are in the game!\")\n",
    "    print('Press \"continue\" to proceed!')\n",
    "    user_input = input().lower()\n",
    "    \n",
    "    if user_input == \"continue\":\n",
    "        print(\"Here we go!\")\n",
    "        # Add your game logic here\n",
    "    else:\n",
    "        print(\"Invalid input. Please enter 'continue' to proceed or 'quit' to exit.\")\n",
    "        choice = input(\"Enter: \").lower()\n",
    "\n",
    "print(\"Goodbye! Thanks for playing.\")\n"
   ]
  },
  {
   "cell_type": "code",
   "execution_count": null,
   "metadata": {},
   "outputs": [],
   "source": []
  },
  {
   "cell_type": "code",
   "execution_count": null,
   "metadata": {},
   "outputs": [],
   "source": []
  }
 ],
 "metadata": {
  "kernelspec": {
   "display_name": "Python 3",
   "language": "python",
   "name": "python3"
  },
  "language_info": {
   "codemirror_mode": {
    "name": "ipython",
    "version": 3
   },
   "file_extension": ".py",
   "mimetype": "text/x-python",
   "name": "python",
   "nbconvert_exporter": "python",
   "pygments_lexer": "ipython3",
   "version": "3.11.4"
  },
  "orig_nbformat": 4
 },
 "nbformat": 4,
 "nbformat_minor": 2
}
