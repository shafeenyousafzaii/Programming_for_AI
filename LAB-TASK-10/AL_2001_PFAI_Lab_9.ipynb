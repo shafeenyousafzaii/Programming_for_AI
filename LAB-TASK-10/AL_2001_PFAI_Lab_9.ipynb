{
  "cells": [
    {
      "cell_type": "markdown",
      "metadata": {
        "id": "qQuXfUH-r4be"
      },
      "source": [
        "###**Note: To work on colab we have to mount google drive**"
      ]
    },
    {
      "cell_type": "code",
      "execution_count": 1,
      "metadata": {
        "colab": {
          "base_uri": "https://localhost:8080/",
          "height": 0
        },
        "id": "Wz3B5895sMOR",
        "outputId": "867020fa-d083-450e-fd1d-0bad8f242112"
      },
      "outputs": [
        {
          "name": "stdout",
          "output_type": "stream",
          "text": [
            "Mounted at /content/drive\n"
          ]
        }
      ],
      "source": [
        "# from google.colab import drive\n",
        "# drive.mount('/content/drive')"
      ]
    },
    {
      "cell_type": "markdown",
      "metadata": {
        "id": "-ofq3JI-f5Rs"
      },
      "source": [
        "# **1. NumPy**\n",
        "- NumPy(Numerical Python) is the fundamental package for scientific computing in Python\n",
        "\n",
        "```\n",
        "import numpy as np\n",
        "```"
      ]
    },
    {
      "cell_type": "markdown",
      "metadata": {
        "id": "EhbeNLys39TU"
      },
      "source": [
        "### **1.1 Import Library**"
      ]
    },
    {
      "cell_type": "code",
      "execution_count": 1,
      "metadata": {
        "id": "5UvJgyTqP-zN"
      },
      "outputs": [],
      "source": [
        "import numpy as np"
      ]
    },
    {
      "cell_type": "markdown",
      "metadata": {
        "id": "1KVnKDOupzFD"
      },
      "source": [
        "### **1.2 Array Creation**\n",
        "- The general mechanisms for creating arrays:\n",
        "- (i). Conversion from other Python structures (i.e. lists and tuples)\n",
        "- (ii). Intrinsic NumPy array creation functions (e.g. arange, ones, zeros, etc.)\n",
        "- (iii). Replicating, joining, or mutating existing arrays\n",
        "- (iv). Reading arrays from disk, either from standard or custom formats."
      ]
    },
    {
      "cell_type": "markdown",
      "metadata": {
        "id": "bFc9RYI2xO6k"
      },
      "source": [
        "### **Example 1:**"
      ]
    },
    {
      "cell_type": "code",
      "execution_count": 2,
      "metadata": {
        "colab": {
          "base_uri": "https://localhost:8080/",
          "height": 0
        },
        "id": "o4NI0p5SOr70",
        "outputId": "4d264d10-e721-474f-a35e-838a920fdcdf"
      },
      "outputs": [
        {
          "name": "stdout",
          "output_type": "stream",
          "text": [
            "[1 2 3 4]\n",
            "[1 2 3 4]\n"
          ]
        }
      ],
      "source": [
        "#Creating an array using list\n",
        "arr1D=np.array([1,2,3,4])\n",
        "print(arr1D)\n",
        "\n",
        "#Creating an array using dictionary\n",
        "arrdict= {\"key1\":1,\n",
        "          \"key2\":2,\n",
        "          \"key3\":3,\n",
        "          \"key4\":4\n",
        "          }\n",
        "np_array=np.array(list(arrdict.values()))\n",
        "print(np_array)\n",
        "\n"
      ]
    },
    {
      "cell_type": "markdown",
      "metadata": {
        "id": "J21KTFw642h7"
      },
      "source": [
        "### **Example 2:**\n",
        "- Multidimensional array"
      ]
    },
    {
      "cell_type": "code",
      "execution_count": 3,
      "metadata": {
        "colab": {
          "base_uri": "https://localhost:8080/",
          "height": 0
        },
        "id": "t71Jy6Mj47Nf",
        "outputId": "2e442546-3062-4ef0-f243-929ae53a8159"
      },
      "outputs": [
        {
          "name": "stdout",
          "output_type": "stream",
          "text": [
            "[[1 2 3]\n",
            " [3 7 9]]\n",
            "Dimensions:  2\n",
            "Shape:  (2, 3)\n",
            "Data Type int64\n"
          ]
        }
      ],
      "source": [
        "arr2D=np.array([[1,2,3],[3,7,9]])\n",
        "print(arr2D)\n",
        "print(\"Dimensions: \",arr2D.ndim)\n",
        "print(\"Shape: \",arr2D.shape)\n",
        "print(\"Data Type\",arr2D.dtype)"
      ]
    },
    {
      "cell_type": "markdown",
      "metadata": {
        "id": "Zh2FLlR_9W42"
      },
      "source": [
        "### **Example 3:**\n",
        "- Manipulating data type\n",
        "- An n-bit signed integer represents integers from -2^n-1 to 2^n-1\n",
        "- If you are not careful with dtype assignments, you can get unwanted overflow, as such"
      ]
    },
    {
      "cell_type": "code",
      "execution_count": 5,
      "metadata": {
        "colab": {
          "base_uri": "https://localhost:8080/",
          "height": 0
        },
        "id": "C2wpSe-Q9ebf",
        "outputId": "184847fb-54ac-4061-effd-535b400d6ae6"
      },
      "outputs": [
        {
          "name": "stdout",
          "output_type": "stream",
          "text": [
            "[ 127 -128 -127]\n"
          ]
        },
        {
          "name": "stderr",
          "output_type": "stream",
          "text": [
            "/tmp/ipykernel_7801/1278412645.py:1: DeprecationWarning: NumPy will stop allowing conversion of out-of-bound Python integers to integer arrays.  The conversion of 128 to int8 will fail in the future.\n",
            "For the old behavior, usually:\n",
            "    np.array(value).astype(dtype)`\n",
            "will give the desired result (the cast overflows).\n",
            "  arrtype=np.array([127,128,129],dtype=np.int8)\n",
            "/tmp/ipykernel_7801/1278412645.py:1: DeprecationWarning: NumPy will stop allowing conversion of out-of-bound Python integers to integer arrays.  The conversion of 129 to int8 will fail in the future.\n",
            "For the old behavior, usually:\n",
            "    np.array(value).astype(dtype)`\n",
            "will give the desired result (the cast overflows).\n",
            "  arrtype=np.array([127,128,129],dtype=np.int8)\n"
          ]
        }
      ],
      "source": [
        "arrtype=np.array([127,128,129],dtype=np.int8)\n",
        "print(arrtype)"
      ]
    },
    {
      "cell_type": "markdown",
      "metadata": {
        "id": "HkQBm741JjSl"
      },
      "source": [
        "### **Example 4:\n",
        "- The ndarray creation functions e.g. numpy.ones, numpy.zeros, and random define arrays based upon the desired shape"
      ]
    },
    {
      "cell_type": "code",
      "execution_count": 6,
      "metadata": {
        "colab": {
          "base_uri": "https://localhost:8080/",
          "height": 0
        },
        "id": "KbQLyr6qJqkD",
        "outputId": "a2dc2df9-eed3-4759-ef21-e7dd7cd0a3f7"
      },
      "outputs": [
        {
          "data": {
            "text/plain": [
              "array([[0., 0., 0.],\n",
              "       [0., 0., 0.]])"
            ]
          },
          "execution_count": 6,
          "metadata": {},
          "output_type": "execute_result"
        }
      ],
      "source": [
        "np.zeros((2,3))\n"
      ]
    },
    {
      "cell_type": "code",
      "execution_count": 7,
      "metadata": {
        "colab": {
          "base_uri": "https://localhost:8080/",
          "height": 0
        },
        "id": "DraCugB6KcZR",
        "outputId": "9171849a-d3c5-498b-9625-dc328749976f"
      },
      "outputs": [
        {
          "data": {
            "text/plain": [
              "array([[[1, 1, 1, 1],\n",
              "        [1, 1, 1, 1],\n",
              "        [1, 1, 1, 1]],\n",
              "\n",
              "       [[1, 1, 1, 1],\n",
              "        [1, 1, 1, 1],\n",
              "        [1, 1, 1, 1]]])"
            ]
          },
          "execution_count": 7,
          "metadata": {},
          "output_type": "execute_result"
        }
      ],
      "source": [
        "np.ones((2,3,4),dtype=int)"
      ]
    },
    {
      "cell_type": "code",
      "execution_count": 8,
      "metadata": {
        "colab": {
          "base_uri": "https://localhost:8080/",
          "height": 0
        },
        "id": "Gjz8iQUSL6sp",
        "outputId": "64dde073-7588-4bf8-e9aa-3a725890b972"
      },
      "outputs": [
        {
          "data": {
            "text/plain": [
              "array([[1., 0.],\n",
              "       [0., 1.]])"
            ]
          },
          "execution_count": 8,
          "metadata": {},
          "output_type": "execute_result"
        }
      ],
      "source": [
        "np.eye(2, 2)"
      ]
    },
    {
      "cell_type": "markdown",
      "metadata": {
        "id": "-AubRdTUNEXf"
      },
      "source": [
        "- Other functions include\n",
        "\n"
      ]
    },
    {
      "cell_type": "code",
      "execution_count": null,
      "metadata": {
        "id": "qmLWaBTZNXFA"
      },
      "outputs": [],
      "source": [
        "d = np.arange(10,25,5)#Create an array of evenly spaced values (step value)\n",
        "np.linspace(0,2,9)#Create an array of evenly spaced values (number of samples)\n",
        "e = np.full((2,2),7)#Create a constant array\n",
        "f = np.eye(2)#Create a 2X2 identity matrix\n",
        "np.random.random((2,2))#Create an array with random values\n",
        "np.empty((3,2))#Create an empty array"
      ]
    },
    {
      "cell_type": "markdown",
      "metadata": {
        "id": "VwK-PjpNVB8B"
      },
      "source": [
        "### **1.3 Input/Ouput Operations**\n",
        "#### **Example 1:**\n",
        "- Save numpy array to a txt file"
      ]
    },
    {
      "cell_type": "code",
      "execution_count": 17,
      "metadata": {
        "id": "9o8GevmWgJya"
      },
      "outputs": [],
      "source": [
        "data = np.array([250,10,13,44])\n",
        "np.savetxt('/content/drive/MyDrive/Colab Notebooks/output.txt',data,delimiter=',',fmt=\"%d\")"
      ]
    },
    {
      "cell_type": "code",
      "execution_count": 19,
      "metadata": {
        "colab": {
          "base_uri": "https://localhost:8080/",
          "height": 0
        },
        "id": "jax8ggLfqiXh",
        "outputId": "40ee7364-e9dc-49f1-cc5a-4617759df384"
      },
      "outputs": [
        {
          "data": {
            "text/plain": [
              "array([250,  10,  13,  44])"
            ]
          },
          "execution_count": 19,
          "metadata": {},
          "output_type": "execute_result"
        }
      ],
      "source": [
        "#load txt file\n",
        "np.loadtxt('/content/drive/MyDrive/Colab Notebooks/output.txt')\n"
      ]
    },
    {
      "cell_type": "markdown",
      "metadata": {
        "id": "LB5wtUmjsKsK"
      },
      "source": [
        "## **How do we manipulate CSV file using numpy?**\n",
        "###**Home Task**\n"
      ]
    },
    {
      "cell_type": "markdown",
      "metadata": {
        "id": "6EfaoFOWqShV"
      },
      "source": [
        "### **1.4 Arithmetic Operations**\n",
        "### **Example:**\n",
        "\n"
      ]
    },
    {
      "cell_type": "code",
      "execution_count": 22,
      "metadata": {
        "colab": {
          "base_uri": "https://localhost:8080/",
          "height": 0
        },
        "id": "yqVmbG9nvL6D",
        "outputId": "e6fe0069-528f-4e40-8146-075615158355"
      },
      "outputs": [
        {
          "name": "stdout",
          "output_type": "stream",
          "text": [
            "[28 36 48]\n"
          ]
        }
      ],
      "source": [
        "#Addition\n",
        "arrA=np.array([25,33,45])\n",
        "arrB=np.array([2,3,14,21])\n",
        "add=arrA+3\n",
        "print(add)"
      ]
    },
    {
      "cell_type": "code",
      "execution_count": 23,
      "metadata": {
        "colab": {
          "base_uri": "https://localhost:8080/",
          "height": 0
        },
        "id": "sFSMTJBBvpu5",
        "outputId": "fea07680-17b0-4158-94f5-8af7be7e28ca"
      },
      "outputs": [
        {
          "name": "stdout",
          "output_type": "stream",
          "text": [
            "[24 24 39]\n"
          ]
        }
      ],
      "source": [
        "#Subraction\n",
        "sub=arrA-arrB\n",
        "print(sub)"
      ]
    },
    {
      "cell_type": "code",
      "execution_count": 26,
      "metadata": {
        "colab": {
          "base_uri": "https://localhost:8080/",
          "height": 0
        },
        "id": "1xWedinV1ndc",
        "outputId": "33c4e8a7-74ea-483e-830c-e2698f045910"
      },
      "outputs": [
        {
          "name": "stdout",
          "output_type": "stream",
          "text": [
            "[50 66 90]\n",
            "[ 25 297 270]\n"
          ]
        }
      ],
      "source": [
        "#multiplication\n",
        "multiply=arrA*2\n",
        "print(multiply)\n",
        "#using function\n",
        "func_multi=np.multiply(arrA,arrB)\n",
        "print(func_multi)"
      ]
    },
    {
      "cell_type": "markdown",
      "metadata": {
        "id": "B78VqGF_53zU"
      },
      "source": [
        "### **1.5. Array Manipulation**\n",
        "###  **1.5.1. Broadcasting**\n",
        "- The term broadcasting describes how NumPy treats arrays with different shapes during arithmetic operations.\n",
        "### **Example:**"
      ]
    },
    {
      "cell_type": "code",
      "execution_count": 34,
      "metadata": {
        "colab": {
          "base_uri": "https://localhost:8080/",
          "height": 0
        },
        "id": "KsL-VteA6DXg",
        "outputId": "d1ce2d2d-69f7-428f-8e33-1a95fc795a2a"
      },
      "outputs": [
        {
          "name": "stdout",
          "output_type": "stream",
          "text": [
            "Built-In broadcasting [[5 6 7]\n",
            " [6 7 8]\n",
            " [7 8 9]]\n",
            "manual broadcasting [[5. 6. 7.]\n",
            " [6. 7. 8.]\n",
            " [7. 8. 9.]]\n"
          ]
        }
      ],
      "source": [
        "#builtin Broadcasting\n",
        "x = np.array([[1], [2], [3]])\n",
        "y = np.array([4, 5, 6])\n",
        "b=x+y\n",
        "print(\"Built-In broadcasting\",b)\n",
        "#Manual Broadcasting\n",
        "x = np.array([[1], [2], [3]])\n",
        "y = np.array([4, 5, 6])\n",
        "b = np.broadcast(x, y)\n",
        "out = np.empty(b.shape)\n",
        "out.flat = [u+v for (u,v) in b]\n",
        "print(\"manual broadcasting\",out)"
      ]
    },
    {
      "cell_type": "markdown",
      "metadata": {
        "id": "KKyOeu0k8eih"
      },
      "source": [
        "###  **1.5.2. Transpose**\n",
        "- The transpose of an array swaps its rows and columns\n",
        "### **Example:**"
      ]
    },
    {
      "cell_type": "code",
      "execution_count": 41,
      "metadata": {
        "colab": {
          "base_uri": "https://localhost:8080/",
          "height": 0
        },
        "id": "HFDZVTVL8qkP",
        "outputId": "5257b62b-e8f3-40ea-f718-8c605d499068"
      },
      "outputs": [
        {
          "name": "stdout",
          "output_type": "stream",
          "text": [
            "[[1 4]\n",
            " [2 5]\n",
            " [3 6]]\n"
          ]
        }
      ],
      "source": [
        "arrT = np.array([[1, 2, 3],\n",
        "                [4, 5, 6]])\n",
        "transpose = np.transpose(arrT) #OR use transpose = arr.T\n",
        "print(transpose)"
      ]
    },
    {
      "cell_type": "markdown",
      "metadata": {
        "id": "nahcVGom-24p"
      },
      "source": [
        "###  **1.5.3. Changing Shape**\n",
        "### **Example 1:**\n",
        "-The reshape() method allows you to change the shape of an array without changing its data"
      ]
    },
    {
      "cell_type": "code",
      "execution_count": 54,
      "metadata": {
        "colab": {
          "base_uri": "https://localhost:8080/",
          "height": 0
        },
        "id": "dIyqL74W_Qnj",
        "outputId": "2b72e5c3-abb1-4fff-d851-cfc4e7a7a63e"
      },
      "outputs": [
        {
          "name": "stdout",
          "output_type": "stream",
          "text": [
            "Original Array (1D):\n",
            "[1 2 3 4 5 6]\n",
            "\n",
            "Reshaped Array (2D):\n",
            "[[1 2 3]\n",
            " [4 5 6]]\n"
          ]
        }
      ],
      "source": [
        "arr_r = np.array([1, 2, 3, 4, 5, 6])\n",
        "\n",
        "# Reshape the 1D array into a 2D array with 2 rows and 3 columns\n",
        "reshaped_arr = arr_r.reshape(2, 3)\n",
        "\n",
        "print(\"Original Array (1D):\")\n",
        "print(arr_r)\n",
        "\n",
        "print(\"\\nReshaped Array (2D):\")\n",
        "print(reshaped_arr)"
      ]
    },
    {
      "cell_type": "code",
      "execution_count": 55,
      "metadata": {
        "colab": {
          "base_uri": "https://localhost:8080/",
          "height": 0
        },
        "id": "Ih-M4S48_aN4",
        "outputId": "bb98b9b5-7519-4dad-caaf-7c30c2037497"
      },
      "outputs": [
        {
          "name": "stdout",
          "output_type": "stream",
          "text": [
            "[1 2 3 4 5 6]\n"
          ]
        }
      ],
      "source": [
        "arr_reshape=arrT.reshape(-1)\n",
        "print(arr_reshape)"
      ]
    },
    {
      "cell_type": "markdown",
      "metadata": {
        "id": "ac5o910SAhUe"
      },
      "source": [
        "###  **1.5.4. Adding/Removing elements**\n",
        "### **Example:**\n",
        "**Note:**    \n",
        "- axis=0: Indicates operation along the rows (vertically).\n",
        "- axis=1: Indicates operation along the columns (horizontally).\n",
        "- axis=None: Indicates operation on the flattened array, considering all elements."
      ]
    },
    {
      "cell_type": "code",
      "execution_count": 63,
      "metadata": {
        "colab": {
          "base_uri": "https://localhost:8080/",
          "height": 0
        },
        "id": "ffV3IGMVBerY",
        "outputId": "21b4ded6-3f6b-45dc-c528-30389dc39bc5"
      },
      "outputs": [
        {
          "name": "stdout",
          "output_type": "stream",
          "text": [
            "\n",
            "Deleting [[4 5 6]\n",
            " [7 8 9]]\n",
            "\n",
            "Adding: [[ 4  5  6]\n",
            " [10 11 12]\n",
            " [ 7  8  9]]\n"
          ]
        }
      ],
      "source": [
        "#Deleting element\n",
        "arr_2d = np.array([[1, 2, 3],\n",
        "                   [4, 5, 6],\n",
        "                   [7, 8, 9]])\n",
        "arr_2d_deleted_row = np.delete(arr_2d, 0, axis=0) #np.delete(array,index,axis=row/column)\n",
        "print(\"\\nDeleting\",arr_2d_deleted_row)\n",
        "\n",
        "#To add items insert,append,concatenate and hstack etc functions are used\n",
        "new_arr_2d = np.insert(arr_2d_deleted_row, 1, [10, 11, 12], axis=0)\n",
        "print(\"\\nAdding:\",new_arr_2d)"
      ]
    },
    {
      "cell_type": "markdown",
      "metadata": {
        "id": "gWiV1nMwEXtj"
      },
      "source": [
        "###  **1.5.5 Subsetting,Indexing and Slicing**\n",
        "### **Example- Subsetting**"
      ]
    },
    {
      "cell_type": "code",
      "execution_count": 64,
      "metadata": {
        "colab": {
          "base_uri": "https://localhost:8080/",
          "height": 0
        },
        "id": "Sb0DtpuAEuYi",
        "outputId": "1b80354f-4b2d-4cb7-d37c-abd73787f7c5"
      },
      "outputs": [
        {
          "data": {
            "text/plain": [
              "array([7, 8, 9])"
            ]
          },
          "execution_count": 64,
          "metadata": {},
          "output_type": "execute_result"
        }
      ],
      "source": [
        "arr_2d[2] #Select the element at the 2nd index"
      ]
    },
    {
      "cell_type": "code",
      "execution_count": 66,
      "metadata": {
        "colab": {
          "base_uri": "https://localhost:8080/",
          "height": 0
        },
        "id": "seKz_l86Errc",
        "outputId": "7092727c-603b-4335-84f5-7fe2bbadde8b"
      },
      "outputs": [
        {
          "data": {
            "text/plain": [
              "9"
            ]
          },
          "execution_count": 66,
          "metadata": {},
          "output_type": "execute_result"
        }
      ],
      "source": [
        "arr_2d[2,2] #Select the element at row 1 column 2 (equivalent to b[1][2])"
      ]
    },
    {
      "cell_type": "markdown",
      "metadata": {
        "id": "LVp8859rFMZi"
      },
      "source": [
        "### **Example - Boolean Indexing**\n"
      ]
    },
    {
      "cell_type": "code",
      "execution_count": 68,
      "metadata": {
        "colab": {
          "base_uri": "https://localhost:8080/",
          "height": 0
        },
        "id": "iuC-cPHaFuN-",
        "outputId": "ec0b202c-2b01-4b35-c892-d2e7a4377791"
      },
      "outputs": [
        {
          "data": {
            "text/plain": [
              "array([1, 2])"
            ]
          },
          "execution_count": 68,
          "metadata": {},
          "output_type": "execute_result"
        }
      ],
      "source": [
        "arr_2d[arr_2d<3] #Select elements from a less than 2"
      ]
    },
    {
      "cell_type": "markdown",
      "metadata": {
        "id": "yPfGiYMpF6f0"
      },
      "source": [
        "### **Example - Fancy Indexing**\n",
        "- Fancy indexing in NumPy refers to the practice of indexing an array using an array of indices or boolean masks.\n",
        "\n",
        "**Using Arrays of Indices:**"
      ]
    },
    {
      "cell_type": "code",
      "execution_count": 69,
      "metadata": {
        "colab": {
          "base_uri": "https://localhost:8080/",
          "height": 0
        },
        "id": "pdtGnzhcGeiZ",
        "outputId": "75003c09-37ef-4e91-961b-0416beb8aa9d"
      },
      "outputs": [
        {
          "name": "stdout",
          "output_type": "stream",
          "text": [
            "REsult:  [1 3 5]\n"
          ]
        }
      ],
      "source": [
        "arr = np.array([1, 2, 3, 4, 5])\n",
        "indices = np.array([0, 2, 4])\n",
        "result = arr[indices]\n",
        "\n",
        "print(\"REsult: \",result)\n"
      ]
    },
    {
      "cell_type": "markdown",
      "metadata": {
        "id": "Gq8ZTpL6Gzbt"
      },
      "source": [
        "**Using Boolean Masks:**\n"
      ]
    },
    {
      "cell_type": "code",
      "execution_count": 70,
      "metadata": {
        "colab": {
          "base_uri": "https://localhost:8080/",
          "height": 0
        },
        "id": "U-7kx52wG6Dw",
        "outputId": "6da3df47-5e2a-4420-8a50-0cfb90cc2292"
      },
      "outputs": [
        {
          "name": "stdout",
          "output_type": "stream",
          "text": [
            "[4 5]\n"
          ]
        }
      ],
      "source": [
        "mask=arr[arr>3]\n",
        "print(mask)"
      ]
    }
  ],
  "metadata": {
    "colab": {
      "provenance": []
    },
    "kernelspec": {
      "display_name": "Python 3",
      "name": "python3"
    },
    "language_info": {
      "codemirror_mode": {
        "name": "ipython",
        "version": 3
      },
      "file_extension": ".py",
      "mimetype": "text/x-python",
      "name": "python",
      "nbconvert_exporter": "python",
      "pygments_lexer": "ipython3",
      "version": "3.11.4"
    }
  },
  "nbformat": 4,
  "nbformat_minor": 0
}
