{
 "cells": [
  {
   "cell_type": "markdown",
   "metadata": {},
   "source": [
    "Task1"
   ]
  },
  {
   "cell_type": "markdown",
   "metadata": {},
   "source": [
    "A store sells three different products: Product A priced at $10, Product B priced at $20,\n",
    "and Product C priced at $15. The store sold 100 units of Product A, 50 units of Product\n",
    "B, and 75 units of Product C. Calculate the total revenue generated from each product\n",
    "and find the overall total revenue.\n"
   ]
  },
  {
   "cell_type": "code",
   "execution_count": 14,
   "metadata": {},
   "outputs": [
    {
     "name": "stdout",
     "output_type": "stream",
     "text": [
      "['Product A' 'Product B' 'product C']\n",
      "[10 20 15]\n",
      "Revenue =  [1000 1000 1125]\n",
      "Product A generate revenue of 1000\n",
      "Product B generate revenue of 1000\n",
      "product C generate revenue of 1125\n"
     ]
    }
   ],
   "source": [
    "import numpy as n\n",
    "array=n.array([10,20,15])\n",
    "product=n.array(['Product A','Product B','product C'])\n",
    "revenue=n.array([100,50,75])\n",
    "p=array*revenue\n",
    "print(product) \n",
    "print(array)\n",
    "print(\"Revenue = \",p)\n",
    "for i in range(0,3):\n",
    "    print(f\"{product[i]} generate revenue of {p[i]}\")\n",
    "\n"
   ]
  },
  {
   "cell_type": "code",
   "execution_count": null,
   "metadata": {},
   "outputs": [],
   "source": []
  }
 ],
 "metadata": {
  "kernelspec": {
   "display_name": "Python 3",
   "language": "python",
   "name": "python3"
  },
  "language_info": {
   "codemirror_mode": {
    "name": "ipython",
    "version": 3
   },
   "file_extension": ".py",
   "mimetype": "text/x-python",
   "name": "python",
   "nbconvert_exporter": "python",
   "pygments_lexer": "ipython3",
   "version": "3.11.4"
  }
 },
 "nbformat": 4,
 "nbformat_minor": 2
}
