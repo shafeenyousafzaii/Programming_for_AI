{
 "cells": [
  {
   "cell_type": "code",
   "execution_count": 20,
   "metadata": {},
   "outputs": [
    {
     "name": "stdout",
     "output_type": "stream",
     "text": [
      "128\n",
      "[[1. 0.]\n",
      " [0. 1.]]\n",
      "[[1. 0.]\n",
      " [0. 1.]]\n"
     ]
    },
    {
     "ename": "AttributeError",
     "evalue": "module 'numpy' has no attribute 'T'",
     "output_type": "error",
     "traceback": [
      "\u001b[0;31m---------------------------------------------------------------------------\u001b[0m",
      "\u001b[0;31mAttributeError\u001b[0m                            Traceback (most recent call last)",
      "\u001b[1;32m/home/shafeen/Documents/My-all-programs--/SEMESTER-3/Programming_for_AI/LAB-TASK-10/Tutorial.ipynb Cell 1\u001b[0m line \u001b[0;36m9\n\u001b[1;32m      <a href='vscode-notebook-cell:/home/shafeen/Documents/My-all-programs--/SEMESTER-3/Programming_for_AI/LAB-TASK-10/Tutorial.ipynb#W0sZmlsZQ%3D%3D?line=6'>7</a>\u001b[0m p\u001b[39m=\u001b[39mn\u001b[39m.\u001b[39mloadtxt(\u001b[39m\"\u001b[39m\u001b[39mabc.txt\u001b[39m\u001b[39m\"\u001b[39m,dtype\u001b[39m=\u001b[39m\u001b[39mfloat\u001b[39m)\n\u001b[1;32m      <a href='vscode-notebook-cell:/home/shafeen/Documents/My-all-programs--/SEMESTER-3/Programming_for_AI/LAB-TASK-10/Tutorial.ipynb#W0sZmlsZQ%3D%3D?line=7'>8</a>\u001b[0m \u001b[39mprint\u001b[39m(p)\n\u001b[0;32m----> <a href='vscode-notebook-cell:/home/shafeen/Documents/My-all-programs--/SEMESTER-3/Programming_for_AI/LAB-TASK-10/Tutorial.ipynb#W0sZmlsZQ%3D%3D?line=8'>9</a>\u001b[0m \u001b[39mprint\u001b[39m(n\u001b[39m.\u001b[39;49mT(data))\n\u001b[1;32m     <a href='vscode-notebook-cell:/home/shafeen/Documents/My-all-programs--/SEMESTER-3/Programming_for_AI/LAB-TASK-10/Tutorial.ipynb#W0sZmlsZQ%3D%3D?line=9'>10</a>\u001b[0m \u001b[39m# p.reshape()\u001b[39;00m\n\u001b[1;32m     <a href='vscode-notebook-cell:/home/shafeen/Documents/My-all-programs--/SEMESTER-3/Programming_for_AI/LAB-TASK-10/Tutorial.ipynb#W0sZmlsZQ%3D%3D?line=10'>11</a>\u001b[0m \u001b[39m# print(p)\u001b[39;00m\n",
      "File \u001b[0;32m/usr/lib/python3/dist-packages/numpy/__init__.py:320\u001b[0m, in \u001b[0;36m__getattr__\u001b[0;34m(attr)\u001b[0m\n\u001b[1;32m    317\u001b[0m     \u001b[39mfrom\u001b[39;00m \u001b[39m.\u001b[39;00m\u001b[39mtesting\u001b[39;00m \u001b[39mimport\u001b[39;00m Tester\n\u001b[1;32m    318\u001b[0m     \u001b[39mreturn\u001b[39;00m Tester\n\u001b[0;32m--> 320\u001b[0m \u001b[39mraise\u001b[39;00m \u001b[39mAttributeError\u001b[39;00m(\u001b[39m\"\u001b[39m\u001b[39mmodule \u001b[39m\u001b[39m{!r}\u001b[39;00m\u001b[39m has no attribute \u001b[39m\u001b[39m\"\u001b[39m\n\u001b[1;32m    321\u001b[0m                      \u001b[39m\"\u001b[39m\u001b[39m{!r}\u001b[39;00m\u001b[39m\"\u001b[39m\u001b[39m.\u001b[39mformat(\u001b[39m__name__\u001b[39m, attr))\n",
      "\u001b[0;31mAttributeError\u001b[0m: module 'numpy' has no attribute 'T'"
     ]
    }
   ],
   "source": [
    "import numpy as n\n",
    "print(pow(2,7))\n",
    "data=n.array([150,20,30,50])\n",
    "a=n.eye(2,2)\n",
    "print(a)\n",
    "n.savetxt(\"abc.txt\",a,fmt=\"%d\")\n",
    "p=n.loadtxt(\"abc.txt\",dtype=float)\n",
    "print(p)\n",
    "print(n.T(data))\n",
    "# p.reshape()\n",
    "# print(p)"
   ]
  }
 ],
 "metadata": {
  "kernelspec": {
   "display_name": "Python 3",
   "language": "python",
   "name": "python3"
  },
  "language_info": {
   "codemirror_mode": {
    "name": "ipython",
    "version": 3
   },
   "file_extension": ".py",
   "mimetype": "text/x-python",
   "name": "python",
   "nbconvert_exporter": "python",
   "pygments_lexer": "ipython3",
   "version": "3.11.4"
  }
 },
 "nbformat": 4,
 "nbformat_minor": 2
}
