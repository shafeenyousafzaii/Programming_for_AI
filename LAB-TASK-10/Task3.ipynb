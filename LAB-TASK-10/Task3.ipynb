{
 "cells": [
  {
   "cell_type": "markdown",
   "metadata": {},
   "source": [
    "TASK 3\n",
    "Suppose you have the scores of five students in three different subjects: Math, Science,\n",
    "and History. The scores are stored in a 2D array where each row represents a student,\n",
    "and each column represents a subject. Calculate and analyze the following:\n",
    "Average Scores: Find the average score for each subject and the overall average\n",
    "score across all subjects.\n",
    "Top Student: Determine the student with the highest average score across all subjects.\n",
    "Subject with Most Improvement: Identify the subject in which the students, as a\n",
    "group, showed the most improvement. Improvement is calculated by comparing the\n",
    "average score in each subject to the overall average score."
   ]
  },
  {
   "cell_type": "code",
   "execution_count": 1,
   "metadata": {},
   "outputs": [
    {
     "name": "stdout",
     "output_type": "stream",
     "text": [
      "Average of subject 1 :  43.2\n",
      "Average of subject 2 :  58.0\n",
      "Average of subject 3 :  57.4\n",
      "52.86666666666667\n"
     ]
    }
   ],
   "source": [
    "import numpy as n\n",
    "# import jovian\n",
    "import pandas as p\n",
    "import csv\n",
    "Marks_of_students=n.array([\n",
    "    [20,30,40],\n",
    "    [50,60,70],\n",
    "    [80,90,100],\n",
    "    [15,82,61],\n",
    "    [51,28,16],\n",
    "])\n",
    "csv_file=\"2D_data.csv\"\n",
    "head=['Subject1','Subject2','Subject3']\n",
    "# with open(csv_file,'w',newline='')as f:\n",
    "#     writer=csv.writer(f)\n",
    "#     writer.writerow(head)\n",
    "with open(csv_file, 'w+', newline='') as f:\n",
    "    writer = csv.writer(f, delimiter=',')\n",
    "    writer.writerow(head)\n",
    "    for i in Marks_of_students:\n",
    "        writer.writerow(i)\n",
    "    # writer.writeheader() # Write the header row\n",
    "# w=n.array(Marks_of_students)\n",
    "# print(w)\n",
    "data=p.read_csv(csv_file)\n",
    "header_col1='Subject1'\n",
    "header_col2='Subject2'\n",
    "header_col3='Subject3'\n",
    "Subject1_data=data[header_col1]\n",
    "Subject2_data=data[header_col2]\n",
    "Subject3_data=data[header_col3]\n",
    "# for i in range(0,5):\n",
    "average_score_subject1=n.mean(Subject1_data)\n",
    "average_score_subject2=n.mean(Subject2_data)\n",
    "average_score_subject3=n.mean(Subject3_data)\n",
    "overallaverage=0\n",
    "total_score=[]\n",
    "total_score.append(average_score_subject1)\n",
    "total_score.append(average_score_subject2)\n",
    "total_score.append(average_score_subject3)\n",
    "for i in range(0,2):\n",
    "    overallaverage=n.mean(total_score)\n",
    "print(\"Average of subject 1 : \",average_score_subject1)\n",
    "print(\"Average of subject 2 : \",average_score_subject2)\n",
    "print(\"Average of subject 3 : \",average_score_subject3)\n",
    "print(overallaverage)\n",
    "# print(average_score_subject1)\n",
    "\n",
    "    # print(f\"Profit for month {i+1} is {proft_for_each_monthh}\")\n",
    "\n",
    "# writer.writerows(Marks_of_students)# Write the data rows\n",
    "# average_score_student1=[]\n",
    "# average_score_student2=[]\n",
    "# average_score_student3=[]"
   ]
  }
 ],
 "metadata": {
  "kernelspec": {
   "display_name": "Python 3",
   "language": "python",
   "name": "python3"
  },
  "language_info": {
   "codemirror_mode": {
    "name": "ipython",
    "version": 3
   },
   "file_extension": ".py",
   "mimetype": "text/x-python",
   "name": "python",
   "nbconvert_exporter": "python",
   "pygments_lexer": "ipython3",
   "version": "3.11.4"
  }
 },
 "nbformat": 4,
 "nbformat_minor": 2
}
