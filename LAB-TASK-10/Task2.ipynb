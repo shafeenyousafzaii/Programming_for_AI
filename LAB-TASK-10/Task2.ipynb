{
 "cells": [
  {
   "cell_type": "markdown",
   "metadata": {},
   "source": [
    "Task 2\n",
    "Create a CSV file financial_data.csv with columns “Date”, “Revenue” and “Expenses”,\n",
    "Sample dataset: Make sure to have 10 rows populated with data.\n",
    "Date Revenue Expenses\n",
    "2022-01-01 50000 30000\n",
    "2022-02-01 55000 32000\n",
    "2022-03-01 60000 35000\n",
    ".... .... ....\n",
    ".... .... ....\n",
    ".... .... ....\n",
    "Calculate the profit for each month and find the average profit over these months using\n",
    "NumPy"
   ]
  },
  {
   "cell_type": "code",
   "execution_count": 22,
   "metadata": {},
   "outputs": [
    {
     "name": "stdout",
     "output_type": "stream",
     "text": [
      "Profit for month 1 is 20000\n",
      "Profit for month 2 is 24000\n",
      "Profit for month 3 is 21000\n",
      "Profit for month 4 is 23000\n",
      "Profit for month 5 is 21000\n",
      "Profit for month 6 is 10000\n",
      "Profit for month 7 is 14000\n",
      "Profit for month 8 is 11000\n",
      "Profit for month 9 is 13000\n",
      "Average Profit is : 17444.444444444445\n"
     ]
    }
   ],
   "source": [
    "import csv as c\n",
    "import numpy as n\n",
    "import pandas as pd\n",
    "csv_file=\"financial_data.csv\"\n",
    "head=['Date','Revenue','Expenses']\n",
    "# with open(csv_file,'w',newline='')as f:\n",
    "#     writer=c.writer(f)\n",
    "\n",
    "data=[[\"2022-01-01\" , 50000 , 30000],\n",
    "      [\"2022-02-01\" , 55000 , 31000],\n",
    "      [\"2022-03-01\" , 53000 , 32000],\n",
    "      [\"2022-04-01\" , 57000 , 34000],\n",
    "      [\"2022-05-01\" , 59000 , 38000],\n",
    "      [\"2022-06-01\" , 50000 , 40000],\n",
    "      [\"2022-07-01\" , 55000 , 41000],\n",
    "      [\"2022-08-01\" , 53000 , 42000],\n",
    "      [\"2022-09-01\" , 57000 , 44000],\n",
    "      [\"2022-10-01\" , 59000 , 48000],\n",
    "      ]\n",
    "with open(csv_file, 'w+', newline='') as csvfile:\n",
    "    writer=c.writer(csvfile)\n",
    "    writer.writerow(head)\n",
    "    for i in data:\n",
    "        writer.writerow(i)\n",
    "        \n",
    "p=n.array(data)\n",
    "# print(p)\n",
    "ALL_data=pd.read_csv(csv_file)\n",
    "header_col='Expenses'\n",
    "Header_col='Revenue'\n",
    "Expense_data=ALL_data[header_col]\n",
    "EXpense_data=ALL_data[Header_col]\n",
    "# print(Expense_data)\n",
    "# print(EXpense_data)\n",
    "proft_for_each_month=[]\n",
    "for i in range(0,9):\n",
    "    proft_for_each_monthh=EXpense_data[i]-Expense_data[i]\n",
    "    proft_for_each_month.append(EXpense_data[i]-Expense_data[i])\n",
    "    print(f\"Profit for month {i+1} is {proft_for_each_monthh}\")\n",
    "# print(proft_for_each_month)\n",
    "average_profit=n.mean(proft_for_each_month)\n",
    "print(f\"Average Profit is : {average_profit}\")\n",
    "# for i in range(0,9):\n",
    "    \n",
    "# print(proft_for_each_month)\n",
    "# average=Expense_data.mean()\n",
    "# print(Expense_data)\n",
    "# print(average)\n",
    "# monthly_profit=n.genfromtxt(csv_file,delimiter=',',)\n",
    "# for i '\n",
    "# z=pd.DataFrame(data)\n",
    "# print(z)\n",
    "# print(data)\n",
    "\n",
    "\n"
   ]
  }
 ],
 "metadata": {
  "kernelspec": {
   "display_name": "Python 3",
   "language": "python",
   "name": "python3"
  },
  "language_info": {
   "codemirror_mode": {
    "name": "ipython",
    "version": 3
   },
   "file_extension": ".py",
   "mimetype": "text/x-python",
   "name": "python",
   "nbconvert_exporter": "python",
   "pygments_lexer": "ipython3",
   "version": "3.11.4"
  }
 },
 "nbformat": 4,
 "nbformat_minor": 2
}
